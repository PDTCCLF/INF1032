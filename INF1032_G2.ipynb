{
  "cells": [
    {
      "cell_type": "markdown",
      "metadata": {
        "id": "view-in-github",
        "colab_type": "text"
      },
      "source": [
        "<a href=\"https://colab.research.google.com/github/PDTCCLF/INF1032/blob/main/INF1032_G2.ipynb\" target=\"_parent\"><img src=\"https://colab.research.google.com/assets/colab-badge.svg\" alt=\"Open In Colab\"/></a>"
      ]
    },
    {
      "cell_type": "code",
      "execution_count": 1,
      "metadata": {
        "colab": {
          "base_uri": "https://localhost:8080/",
          "height": 539
        },
        "id": "b-NNdEYrlBmh",
        "outputId": "ce3ba317-196d-4f66-9443-a6ffb2d48683"
      },
      "outputs": [
        {
          "output_type": "stream",
          "name": "stdout",
          "text": [
            "Collecting gravis\n",
            "  Downloading gravis-0.1.0-py3-none-any.whl (659 kB)\n",
            "\u001b[?25l     \u001b[90m━━━━━━━━━━━━━━━━━━━━━━━━━━━━━━━━━━━━━━━━\u001b[0m \u001b[32m0.0/659.1 kB\u001b[0m \u001b[31m?\u001b[0m eta \u001b[36m-:--:--\u001b[0m\r\u001b[2K     \u001b[91m━━━\u001b[0m\u001b[91m╸\u001b[0m\u001b[90m━━━━━━━━━━━━━━━━━━━━━━━━━━━━━━━━━━━━\u001b[0m \u001b[32m61.4/659.1 kB\u001b[0m \u001b[31m1.6 MB/s\u001b[0m eta \u001b[36m0:00:01\u001b[0m\r\u001b[2K     \u001b[91m━━━━━━━━━━━━━━━━━━━━━━━━━━━━━━━━━━━━━━━\u001b[0m\u001b[91m╸\u001b[0m \u001b[32m655.4/659.1 kB\u001b[0m \u001b[31m9.6 MB/s\u001b[0m eta \u001b[36m0:00:01\u001b[0m\r\u001b[2K     \u001b[90m━━━━━━━━━━━━━━━━━━━━━━━━━━━━━━━━━━━━━━━━\u001b[0m \u001b[32m659.1/659.1 kB\u001b[0m \u001b[31m8.0 MB/s\u001b[0m eta \u001b[36m0:00:00\u001b[0m\n",
            "\u001b[?25hRequirement already satisfied: setuptools>=40.0 in /usr/local/lib/python3.10/dist-packages (from gravis) (67.7.2)\n",
            "Installing collected packages: gravis\n",
            "Successfully installed gravis-0.1.0\n",
            "Mounted at /content/drive\n",
            "/content/drive/MyDrive/Colab Notebooks/Data Science/CVD_cleaned.csv\n"
          ]
        },
        {
          "output_type": "execute_result",
          "data": {
            "text/plain": [
              "  General_Health                  Checkup Exercise Heart_Disease Skin_Cancer  \\\n",
              "0           Poor  Within the past 2 years       No            No          No   \n",
              "1      Very Good     Within the past year       No           Yes          No   \n",
              "2      Very Good     Within the past year      Yes            No          No   \n",
              "3           Poor     Within the past year      Yes           Yes          No   \n",
              "4           Good     Within the past year       No            No          No   \n",
              "\n",
              "  Other_Cancer Depression Diabetes Arthritis     Sex Age_Category  \\\n",
              "0           No         No       No       Yes  Female        70-74   \n",
              "1           No         No      Yes        No  Female        70-74   \n",
              "2           No         No      Yes        No  Female        60-64   \n",
              "3           No         No      Yes        No    Male        75-79   \n",
              "4           No         No       No        No    Male          80+   \n",
              "\n",
              "   Height_(cm)  Weight_(kg)    BMI Smoking_History  Alcohol_Consumption  \\\n",
              "0        150.0        32.66  14.54             Yes                  0.0   \n",
              "1        165.0        77.11  28.29              No                  0.0   \n",
              "2        163.0        88.45  33.47              No                  4.0   \n",
              "3        180.0        93.44  28.73              No                  0.0   \n",
              "4        191.0        88.45  24.37             Yes                  0.0   \n",
              "\n",
              "   Fruit_Consumption  Green_Vegetables_Consumption  FriedPotato_Consumption  \n",
              "0               30.0                          16.0                     12.0  \n",
              "1               30.0                           0.0                      4.0  \n",
              "2               12.0                           3.0                     16.0  \n",
              "3               30.0                          30.0                      8.0  \n",
              "4                8.0                           4.0                      0.0  "
            ],
            "text/html": [
              "\n",
              "  <div id=\"df-8f41a972-8eb7-4c4a-aa27-e9e198fffe2f\" class=\"colab-df-container\">\n",
              "    <div>\n",
              "<style scoped>\n",
              "    .dataframe tbody tr th:only-of-type {\n",
              "        vertical-align: middle;\n",
              "    }\n",
              "\n",
              "    .dataframe tbody tr th {\n",
              "        vertical-align: top;\n",
              "    }\n",
              "\n",
              "    .dataframe thead th {\n",
              "        text-align: right;\n",
              "    }\n",
              "</style>\n",
              "<table border=\"1\" class=\"dataframe\">\n",
              "  <thead>\n",
              "    <tr style=\"text-align: right;\">\n",
              "      <th></th>\n",
              "      <th>General_Health</th>\n",
              "      <th>Checkup</th>\n",
              "      <th>Exercise</th>\n",
              "      <th>Heart_Disease</th>\n",
              "      <th>Skin_Cancer</th>\n",
              "      <th>Other_Cancer</th>\n",
              "      <th>Depression</th>\n",
              "      <th>Diabetes</th>\n",
              "      <th>Arthritis</th>\n",
              "      <th>Sex</th>\n",
              "      <th>Age_Category</th>\n",
              "      <th>Height_(cm)</th>\n",
              "      <th>Weight_(kg)</th>\n",
              "      <th>BMI</th>\n",
              "      <th>Smoking_History</th>\n",
              "      <th>Alcohol_Consumption</th>\n",
              "      <th>Fruit_Consumption</th>\n",
              "      <th>Green_Vegetables_Consumption</th>\n",
              "      <th>FriedPotato_Consumption</th>\n",
              "    </tr>\n",
              "  </thead>\n",
              "  <tbody>\n",
              "    <tr>\n",
              "      <th>0</th>\n",
              "      <td>Poor</td>\n",
              "      <td>Within the past 2 years</td>\n",
              "      <td>No</td>\n",
              "      <td>No</td>\n",
              "      <td>No</td>\n",
              "      <td>No</td>\n",
              "      <td>No</td>\n",
              "      <td>No</td>\n",
              "      <td>Yes</td>\n",
              "      <td>Female</td>\n",
              "      <td>70-74</td>\n",
              "      <td>150.0</td>\n",
              "      <td>32.66</td>\n",
              "      <td>14.54</td>\n",
              "      <td>Yes</td>\n",
              "      <td>0.0</td>\n",
              "      <td>30.0</td>\n",
              "      <td>16.0</td>\n",
              "      <td>12.0</td>\n",
              "    </tr>\n",
              "    <tr>\n",
              "      <th>1</th>\n",
              "      <td>Very Good</td>\n",
              "      <td>Within the past year</td>\n",
              "      <td>No</td>\n",
              "      <td>Yes</td>\n",
              "      <td>No</td>\n",
              "      <td>No</td>\n",
              "      <td>No</td>\n",
              "      <td>Yes</td>\n",
              "      <td>No</td>\n",
              "      <td>Female</td>\n",
              "      <td>70-74</td>\n",
              "      <td>165.0</td>\n",
              "      <td>77.11</td>\n",
              "      <td>28.29</td>\n",
              "      <td>No</td>\n",
              "      <td>0.0</td>\n",
              "      <td>30.0</td>\n",
              "      <td>0.0</td>\n",
              "      <td>4.0</td>\n",
              "    </tr>\n",
              "    <tr>\n",
              "      <th>2</th>\n",
              "      <td>Very Good</td>\n",
              "      <td>Within the past year</td>\n",
              "      <td>Yes</td>\n",
              "      <td>No</td>\n",
              "      <td>No</td>\n",
              "      <td>No</td>\n",
              "      <td>No</td>\n",
              "      <td>Yes</td>\n",
              "      <td>No</td>\n",
              "      <td>Female</td>\n",
              "      <td>60-64</td>\n",
              "      <td>163.0</td>\n",
              "      <td>88.45</td>\n",
              "      <td>33.47</td>\n",
              "      <td>No</td>\n",
              "      <td>4.0</td>\n",
              "      <td>12.0</td>\n",
              "      <td>3.0</td>\n",
              "      <td>16.0</td>\n",
              "    </tr>\n",
              "    <tr>\n",
              "      <th>3</th>\n",
              "      <td>Poor</td>\n",
              "      <td>Within the past year</td>\n",
              "      <td>Yes</td>\n",
              "      <td>Yes</td>\n",
              "      <td>No</td>\n",
              "      <td>No</td>\n",
              "      <td>No</td>\n",
              "      <td>Yes</td>\n",
              "      <td>No</td>\n",
              "      <td>Male</td>\n",
              "      <td>75-79</td>\n",
              "      <td>180.0</td>\n",
              "      <td>93.44</td>\n",
              "      <td>28.73</td>\n",
              "      <td>No</td>\n",
              "      <td>0.0</td>\n",
              "      <td>30.0</td>\n",
              "      <td>30.0</td>\n",
              "      <td>8.0</td>\n",
              "    </tr>\n",
              "    <tr>\n",
              "      <th>4</th>\n",
              "      <td>Good</td>\n",
              "      <td>Within the past year</td>\n",
              "      <td>No</td>\n",
              "      <td>No</td>\n",
              "      <td>No</td>\n",
              "      <td>No</td>\n",
              "      <td>No</td>\n",
              "      <td>No</td>\n",
              "      <td>No</td>\n",
              "      <td>Male</td>\n",
              "      <td>80+</td>\n",
              "      <td>191.0</td>\n",
              "      <td>88.45</td>\n",
              "      <td>24.37</td>\n",
              "      <td>Yes</td>\n",
              "      <td>0.0</td>\n",
              "      <td>8.0</td>\n",
              "      <td>4.0</td>\n",
              "      <td>0.0</td>\n",
              "    </tr>\n",
              "  </tbody>\n",
              "</table>\n",
              "</div>\n",
              "    <div class=\"colab-df-buttons\">\n",
              "\n",
              "  <div class=\"colab-df-container\">\n",
              "    <button class=\"colab-df-convert\" onclick=\"convertToInteractive('df-8f41a972-8eb7-4c4a-aa27-e9e198fffe2f')\"\n",
              "            title=\"Convert this dataframe to an interactive table.\"\n",
              "            style=\"display:none;\">\n",
              "\n",
              "  <svg xmlns=\"http://www.w3.org/2000/svg\" height=\"24px\" viewBox=\"0 -960 960 960\">\n",
              "    <path d=\"M120-120v-720h720v720H120Zm60-500h600v-160H180v160Zm220 220h160v-160H400v160Zm0 220h160v-160H400v160ZM180-400h160v-160H180v160Zm440 0h160v-160H620v160ZM180-180h160v-160H180v160Zm440 0h160v-160H620v160Z\"/>\n",
              "  </svg>\n",
              "    </button>\n",
              "\n",
              "  <style>\n",
              "    .colab-df-container {\n",
              "      display:flex;\n",
              "      gap: 12px;\n",
              "    }\n",
              "\n",
              "    .colab-df-convert {\n",
              "      background-color: #E8F0FE;\n",
              "      border: none;\n",
              "      border-radius: 50%;\n",
              "      cursor: pointer;\n",
              "      display: none;\n",
              "      fill: #1967D2;\n",
              "      height: 32px;\n",
              "      padding: 0 0 0 0;\n",
              "      width: 32px;\n",
              "    }\n",
              "\n",
              "    .colab-df-convert:hover {\n",
              "      background-color: #E2EBFA;\n",
              "      box-shadow: 0px 1px 2px rgba(60, 64, 67, 0.3), 0px 1px 3px 1px rgba(60, 64, 67, 0.15);\n",
              "      fill: #174EA6;\n",
              "    }\n",
              "\n",
              "    .colab-df-buttons div {\n",
              "      margin-bottom: 4px;\n",
              "    }\n",
              "\n",
              "    [theme=dark] .colab-df-convert {\n",
              "      background-color: #3B4455;\n",
              "      fill: #D2E3FC;\n",
              "    }\n",
              "\n",
              "    [theme=dark] .colab-df-convert:hover {\n",
              "      background-color: #434B5C;\n",
              "      box-shadow: 0px 1px 3px 1px rgba(0, 0, 0, 0.15);\n",
              "      filter: drop-shadow(0px 1px 2px rgba(0, 0, 0, 0.3));\n",
              "      fill: #FFFFFF;\n",
              "    }\n",
              "  </style>\n",
              "\n",
              "    <script>\n",
              "      const buttonEl =\n",
              "        document.querySelector('#df-8f41a972-8eb7-4c4a-aa27-e9e198fffe2f button.colab-df-convert');\n",
              "      buttonEl.style.display =\n",
              "        google.colab.kernel.accessAllowed ? 'block' : 'none';\n",
              "\n",
              "      async function convertToInteractive(key) {\n",
              "        const element = document.querySelector('#df-8f41a972-8eb7-4c4a-aa27-e9e198fffe2f');\n",
              "        const dataTable =\n",
              "          await google.colab.kernel.invokeFunction('convertToInteractive',\n",
              "                                                    [key], {});\n",
              "        if (!dataTable) return;\n",
              "\n",
              "        const docLinkHtml = 'Like what you see? Visit the ' +\n",
              "          '<a target=\"_blank\" href=https://colab.research.google.com/notebooks/data_table.ipynb>data table notebook</a>'\n",
              "          + ' to learn more about interactive tables.';\n",
              "        element.innerHTML = '';\n",
              "        dataTable['output_type'] = 'display_data';\n",
              "        await google.colab.output.renderOutput(dataTable, element);\n",
              "        const docLink = document.createElement('div');\n",
              "        docLink.innerHTML = docLinkHtml;\n",
              "        element.appendChild(docLink);\n",
              "      }\n",
              "    </script>\n",
              "  </div>\n",
              "\n",
              "\n",
              "<div id=\"df-7736e378-116a-4f60-b19e-4f301b8abf6f\">\n",
              "  <button class=\"colab-df-quickchart\" onclick=\"quickchart('df-7736e378-116a-4f60-b19e-4f301b8abf6f')\"\n",
              "            title=\"Suggest charts\"\n",
              "            style=\"display:none;\">\n",
              "\n",
              "<svg xmlns=\"http://www.w3.org/2000/svg\" height=\"24px\"viewBox=\"0 0 24 24\"\n",
              "     width=\"24px\">\n",
              "    <g>\n",
              "        <path d=\"M19 3H5c-1.1 0-2 .9-2 2v14c0 1.1.9 2 2 2h14c1.1 0 2-.9 2-2V5c0-1.1-.9-2-2-2zM9 17H7v-7h2v7zm4 0h-2V7h2v10zm4 0h-2v-4h2v4z\"/>\n",
              "    </g>\n",
              "</svg>\n",
              "  </button>\n",
              "\n",
              "<style>\n",
              "  .colab-df-quickchart {\n",
              "      --bg-color: #E8F0FE;\n",
              "      --fill-color: #1967D2;\n",
              "      --hover-bg-color: #E2EBFA;\n",
              "      --hover-fill-color: #174EA6;\n",
              "      --disabled-fill-color: #AAA;\n",
              "      --disabled-bg-color: #DDD;\n",
              "  }\n",
              "\n",
              "  [theme=dark] .colab-df-quickchart {\n",
              "      --bg-color: #3B4455;\n",
              "      --fill-color: #D2E3FC;\n",
              "      --hover-bg-color: #434B5C;\n",
              "      --hover-fill-color: #FFFFFF;\n",
              "      --disabled-bg-color: #3B4455;\n",
              "      --disabled-fill-color: #666;\n",
              "  }\n",
              "\n",
              "  .colab-df-quickchart {\n",
              "    background-color: var(--bg-color);\n",
              "    border: none;\n",
              "    border-radius: 50%;\n",
              "    cursor: pointer;\n",
              "    display: none;\n",
              "    fill: var(--fill-color);\n",
              "    height: 32px;\n",
              "    padding: 0;\n",
              "    width: 32px;\n",
              "  }\n",
              "\n",
              "  .colab-df-quickchart:hover {\n",
              "    background-color: var(--hover-bg-color);\n",
              "    box-shadow: 0 1px 2px rgba(60, 64, 67, 0.3), 0 1px 3px 1px rgba(60, 64, 67, 0.15);\n",
              "    fill: var(--button-hover-fill-color);\n",
              "  }\n",
              "\n",
              "  .colab-df-quickchart-complete:disabled,\n",
              "  .colab-df-quickchart-complete:disabled:hover {\n",
              "    background-color: var(--disabled-bg-color);\n",
              "    fill: var(--disabled-fill-color);\n",
              "    box-shadow: none;\n",
              "  }\n",
              "\n",
              "  .colab-df-spinner {\n",
              "    border: 2px solid var(--fill-color);\n",
              "    border-color: transparent;\n",
              "    border-bottom-color: var(--fill-color);\n",
              "    animation:\n",
              "      spin 1s steps(1) infinite;\n",
              "  }\n",
              "\n",
              "  @keyframes spin {\n",
              "    0% {\n",
              "      border-color: transparent;\n",
              "      border-bottom-color: var(--fill-color);\n",
              "      border-left-color: var(--fill-color);\n",
              "    }\n",
              "    20% {\n",
              "      border-color: transparent;\n",
              "      border-left-color: var(--fill-color);\n",
              "      border-top-color: var(--fill-color);\n",
              "    }\n",
              "    30% {\n",
              "      border-color: transparent;\n",
              "      border-left-color: var(--fill-color);\n",
              "      border-top-color: var(--fill-color);\n",
              "      border-right-color: var(--fill-color);\n",
              "    }\n",
              "    40% {\n",
              "      border-color: transparent;\n",
              "      border-right-color: var(--fill-color);\n",
              "      border-top-color: var(--fill-color);\n",
              "    }\n",
              "    60% {\n",
              "      border-color: transparent;\n",
              "      border-right-color: var(--fill-color);\n",
              "    }\n",
              "    80% {\n",
              "      border-color: transparent;\n",
              "      border-right-color: var(--fill-color);\n",
              "      border-bottom-color: var(--fill-color);\n",
              "    }\n",
              "    90% {\n",
              "      border-color: transparent;\n",
              "      border-bottom-color: var(--fill-color);\n",
              "    }\n",
              "  }\n",
              "</style>\n",
              "\n",
              "  <script>\n",
              "    async function quickchart(key) {\n",
              "      const quickchartButtonEl =\n",
              "        document.querySelector('#' + key + ' button');\n",
              "      quickchartButtonEl.disabled = true;  // To prevent multiple clicks.\n",
              "      quickchartButtonEl.classList.add('colab-df-spinner');\n",
              "      try {\n",
              "        const charts = await google.colab.kernel.invokeFunction(\n",
              "            'suggestCharts', [key], {});\n",
              "      } catch (error) {\n",
              "        console.error('Error during call to suggestCharts:', error);\n",
              "      }\n",
              "      quickchartButtonEl.classList.remove('colab-df-spinner');\n",
              "      quickchartButtonEl.classList.add('colab-df-quickchart-complete');\n",
              "    }\n",
              "    (() => {\n",
              "      let quickchartButtonEl =\n",
              "        document.querySelector('#df-7736e378-116a-4f60-b19e-4f301b8abf6f button');\n",
              "      quickchartButtonEl.style.display =\n",
              "        google.colab.kernel.accessAllowed ? 'block' : 'none';\n",
              "    })();\n",
              "  </script>\n",
              "</div>\n",
              "    </div>\n",
              "  </div>\n"
            ]
          },
          "metadata": {},
          "execution_count": 1
        }
      ],
      "source": [
        "import os\n",
        "import pandas as pd\n",
        "import seaborn as sns\n",
        "import matplotlib.pyplot as plt\n",
        "from numpy.linalg import norm\n",
        "import matplotlib.patches as mpatches\n",
        "!pip install gravis\n",
        "\n",
        "# drive_path = 'Database/'\n",
        "# contents = os.listdir(drive_path)\n",
        "\n",
        "# for dirname, _, filenames in os.walk(drive_path):\n",
        "#     for filename in filenames:\n",
        "#         print(os.path.join(dirname, filename))\n",
        "\n",
        "# df=pd.read_csv(drive_path + 'CVD_cleaned.csv')\n",
        "# df.head()\n",
        "\n",
        "from google.colab import drive\n",
        "drive.mount('/content/drive')\n",
        "\n",
        "drive_path = '/content/drive/MyDrive/Colab Notebooks/Data Science'\n",
        "contents = os.listdir(drive_path)\n",
        "\n",
        "for dirname, _, filenames in os.walk(drive_path):\n",
        "    for filename in filenames:\n",
        "        print(os.path.join(dirname, filename))\n",
        "\n",
        "df=pd.read_csv(drive_path + '/CVD_cleaned.csv')\n",
        "df.head()"
      ]
    },
    {
      "cell_type": "markdown",
      "source": [
        "## Convertendo colunas categóricas para numéricas"
      ],
      "metadata": {
        "id": "2yveOs4So1Dy"
      }
    },
    {
      "cell_type": "code",
      "source": [
        "#Operações já realizadas e explicadas na G1\n",
        "def simplify_diabetes(diabetes_status):\n",
        "    if \"No\" in diabetes_status:\n",
        "        return 0\n",
        "    elif \"Yes\" in diabetes_status:\n",
        "        return 1\n",
        "\n",
        "processed_df = df.copy()\n",
        "processed_df['Diabetes'] = processed_df['Diabetes'].apply(simplify_diabetes)\n",
        "\n",
        "checkup_values = {\n",
        "    'Never': 0,\n",
        "    'Within the past year': 4,\n",
        "    'Within the past 2 years': 3,\n",
        "    'Within the past 5 years': 2,\n",
        "    '5 or more years ago': 1\n",
        "}\n",
        "\n",
        "processed_df['Checkup'] = processed_df['Checkup'].map(checkup_values)\n",
        "\n",
        "age_category_values = {\n",
        "    '18-24': 1,\n",
        "    '25-29': 2,\n",
        "    '30-34': 3,\n",
        "    '35-39': 4,\n",
        "    '40-44': 5,\n",
        "    '45-49': 6,\n",
        "    '50-54': 7,\n",
        "    '55-59': 8,\n",
        "    '60-64': 9,\n",
        "    '65-69': 10,\n",
        "    '70-74': 11,\n",
        "    '75-79': 12,\n",
        "    '80+': 13\n",
        "}\n",
        "\n",
        "processed_df['Age_Category'] = processed_df['Age_Category'].map(age_category_values)\n",
        "\n",
        "def binary_encoding(df, category, str1, str2):\n",
        "  df[category].replace([str1, str2], [0, 1], inplace=True)\n",
        "  return df\n",
        "\n",
        "processed_df = binary_encoding(processed_df, \"Heart_Disease\", \"No\", \"Yes\")\n",
        "processed_df = binary_encoding(processed_df, \"Smoking_History\", \"No\", \"Yes\")\n",
        "processed_df = binary_encoding(processed_df, \"Arthritis\", \"No\", \"Yes\")\n",
        "processed_df = binary_encoding(processed_df, \"Depression\", \"No\", \"Yes\")\n",
        "processed_df = binary_encoding(processed_df, \"Exercise\", \"No\", \"Yes\")\n",
        "processed_df = binary_encoding(processed_df, \"Skin_Cancer\", \"No\", \"Yes\")\n",
        "processed_df = binary_encoding(processed_df, \"Other_Cancer\", \"No\", \"Yes\")\n",
        "processed_df = binary_encoding(processed_df, \"Smoking_History\", \"No\", \"Yes\")\n",
        "\n",
        "def one_hot_encoding(df, category):\n",
        "  dummies = pd.get_dummies(df[category], prefix=category)\n",
        "  df = pd.concat([df, dummies], axis='columns')\n",
        "  df = df.drop([category], axis=1)\n",
        "  return df\n",
        "\n",
        "processed_df = one_hot_encoding(processed_df, \"General_Health\")\n",
        "processed_df = one_hot_encoding(processed_df, \"Sex\")\n",
        "processed_df.head()"
      ],
      "metadata": {
        "id": "fkcOPC_OxoQk",
        "colab": {
          "base_uri": "https://localhost:8080/",
          "height": 273
        },
        "outputId": "e6749f62-4688-45b2-e2f0-cd4a89e15a29"
      },
      "execution_count": 2,
      "outputs": [
        {
          "output_type": "execute_result",
          "data": {
            "text/plain": [
              "   Checkup  Exercise  Heart_Disease  Skin_Cancer  Other_Cancer  Depression  \\\n",
              "0        3         0              0            0             0           0   \n",
              "1        4         0              1            0             0           0   \n",
              "2        4         1              0            0             0           0   \n",
              "3        4         1              1            0             0           0   \n",
              "4        4         0              0            0             0           0   \n",
              "\n",
              "   Diabetes  Arthritis  Age_Category  Height_(cm)  ...  Fruit_Consumption  \\\n",
              "0         0          1            11        150.0  ...               30.0   \n",
              "1         1          0            11        165.0  ...               30.0   \n",
              "2         1          0             9        163.0  ...               12.0   \n",
              "3         1          0            12        180.0  ...               30.0   \n",
              "4         0          0            13        191.0  ...                8.0   \n",
              "\n",
              "   Green_Vegetables_Consumption  FriedPotato_Consumption  \\\n",
              "0                          16.0                     12.0   \n",
              "1                           0.0                      4.0   \n",
              "2                           3.0                     16.0   \n",
              "3                          30.0                      8.0   \n",
              "4                           4.0                      0.0   \n",
              "\n",
              "   General_Health_Excellent  General_Health_Fair  General_Health_Good  \\\n",
              "0                         0                    0                    0   \n",
              "1                         0                    0                    0   \n",
              "2                         0                    0                    0   \n",
              "3                         0                    0                    0   \n",
              "4                         0                    0                    1   \n",
              "\n",
              "   General_Health_Poor  General_Health_Very Good  Sex_Female  Sex_Male  \n",
              "0                    1                         0           1         0  \n",
              "1                    0                         1           1         0  \n",
              "2                    0                         1           1         0  \n",
              "3                    1                         0           0         1  \n",
              "4                    0                         0           0         1  \n",
              "\n",
              "[5 rows x 24 columns]"
            ],
            "text/html": [
              "\n",
              "  <div id=\"df-15a005e7-1803-48a9-aab1-1332fc8b142b\" class=\"colab-df-container\">\n",
              "    <div>\n",
              "<style scoped>\n",
              "    .dataframe tbody tr th:only-of-type {\n",
              "        vertical-align: middle;\n",
              "    }\n",
              "\n",
              "    .dataframe tbody tr th {\n",
              "        vertical-align: top;\n",
              "    }\n",
              "\n",
              "    .dataframe thead th {\n",
              "        text-align: right;\n",
              "    }\n",
              "</style>\n",
              "<table border=\"1\" class=\"dataframe\">\n",
              "  <thead>\n",
              "    <tr style=\"text-align: right;\">\n",
              "      <th></th>\n",
              "      <th>Checkup</th>\n",
              "      <th>Exercise</th>\n",
              "      <th>Heart_Disease</th>\n",
              "      <th>Skin_Cancer</th>\n",
              "      <th>Other_Cancer</th>\n",
              "      <th>Depression</th>\n",
              "      <th>Diabetes</th>\n",
              "      <th>Arthritis</th>\n",
              "      <th>Age_Category</th>\n",
              "      <th>Height_(cm)</th>\n",
              "      <th>...</th>\n",
              "      <th>Fruit_Consumption</th>\n",
              "      <th>Green_Vegetables_Consumption</th>\n",
              "      <th>FriedPotato_Consumption</th>\n",
              "      <th>General_Health_Excellent</th>\n",
              "      <th>General_Health_Fair</th>\n",
              "      <th>General_Health_Good</th>\n",
              "      <th>General_Health_Poor</th>\n",
              "      <th>General_Health_Very Good</th>\n",
              "      <th>Sex_Female</th>\n",
              "      <th>Sex_Male</th>\n",
              "    </tr>\n",
              "  </thead>\n",
              "  <tbody>\n",
              "    <tr>\n",
              "      <th>0</th>\n",
              "      <td>3</td>\n",
              "      <td>0</td>\n",
              "      <td>0</td>\n",
              "      <td>0</td>\n",
              "      <td>0</td>\n",
              "      <td>0</td>\n",
              "      <td>0</td>\n",
              "      <td>1</td>\n",
              "      <td>11</td>\n",
              "      <td>150.0</td>\n",
              "      <td>...</td>\n",
              "      <td>30.0</td>\n",
              "      <td>16.0</td>\n",
              "      <td>12.0</td>\n",
              "      <td>0</td>\n",
              "      <td>0</td>\n",
              "      <td>0</td>\n",
              "      <td>1</td>\n",
              "      <td>0</td>\n",
              "      <td>1</td>\n",
              "      <td>0</td>\n",
              "    </tr>\n",
              "    <tr>\n",
              "      <th>1</th>\n",
              "      <td>4</td>\n",
              "      <td>0</td>\n",
              "      <td>1</td>\n",
              "      <td>0</td>\n",
              "      <td>0</td>\n",
              "      <td>0</td>\n",
              "      <td>1</td>\n",
              "      <td>0</td>\n",
              "      <td>11</td>\n",
              "      <td>165.0</td>\n",
              "      <td>...</td>\n",
              "      <td>30.0</td>\n",
              "      <td>0.0</td>\n",
              "      <td>4.0</td>\n",
              "      <td>0</td>\n",
              "      <td>0</td>\n",
              "      <td>0</td>\n",
              "      <td>0</td>\n",
              "      <td>1</td>\n",
              "      <td>1</td>\n",
              "      <td>0</td>\n",
              "    </tr>\n",
              "    <tr>\n",
              "      <th>2</th>\n",
              "      <td>4</td>\n",
              "      <td>1</td>\n",
              "      <td>0</td>\n",
              "      <td>0</td>\n",
              "      <td>0</td>\n",
              "      <td>0</td>\n",
              "      <td>1</td>\n",
              "      <td>0</td>\n",
              "      <td>9</td>\n",
              "      <td>163.0</td>\n",
              "      <td>...</td>\n",
              "      <td>12.0</td>\n",
              "      <td>3.0</td>\n",
              "      <td>16.0</td>\n",
              "      <td>0</td>\n",
              "      <td>0</td>\n",
              "      <td>0</td>\n",
              "      <td>0</td>\n",
              "      <td>1</td>\n",
              "      <td>1</td>\n",
              "      <td>0</td>\n",
              "    </tr>\n",
              "    <tr>\n",
              "      <th>3</th>\n",
              "      <td>4</td>\n",
              "      <td>1</td>\n",
              "      <td>1</td>\n",
              "      <td>0</td>\n",
              "      <td>0</td>\n",
              "      <td>0</td>\n",
              "      <td>1</td>\n",
              "      <td>0</td>\n",
              "      <td>12</td>\n",
              "      <td>180.0</td>\n",
              "      <td>...</td>\n",
              "      <td>30.0</td>\n",
              "      <td>30.0</td>\n",
              "      <td>8.0</td>\n",
              "      <td>0</td>\n",
              "      <td>0</td>\n",
              "      <td>0</td>\n",
              "      <td>1</td>\n",
              "      <td>0</td>\n",
              "      <td>0</td>\n",
              "      <td>1</td>\n",
              "    </tr>\n",
              "    <tr>\n",
              "      <th>4</th>\n",
              "      <td>4</td>\n",
              "      <td>0</td>\n",
              "      <td>0</td>\n",
              "      <td>0</td>\n",
              "      <td>0</td>\n",
              "      <td>0</td>\n",
              "      <td>0</td>\n",
              "      <td>0</td>\n",
              "      <td>13</td>\n",
              "      <td>191.0</td>\n",
              "      <td>...</td>\n",
              "      <td>8.0</td>\n",
              "      <td>4.0</td>\n",
              "      <td>0.0</td>\n",
              "      <td>0</td>\n",
              "      <td>0</td>\n",
              "      <td>1</td>\n",
              "      <td>0</td>\n",
              "      <td>0</td>\n",
              "      <td>0</td>\n",
              "      <td>1</td>\n",
              "    </tr>\n",
              "  </tbody>\n",
              "</table>\n",
              "<p>5 rows × 24 columns</p>\n",
              "</div>\n",
              "    <div class=\"colab-df-buttons\">\n",
              "\n",
              "  <div class=\"colab-df-container\">\n",
              "    <button class=\"colab-df-convert\" onclick=\"convertToInteractive('df-15a005e7-1803-48a9-aab1-1332fc8b142b')\"\n",
              "            title=\"Convert this dataframe to an interactive table.\"\n",
              "            style=\"display:none;\">\n",
              "\n",
              "  <svg xmlns=\"http://www.w3.org/2000/svg\" height=\"24px\" viewBox=\"0 -960 960 960\">\n",
              "    <path d=\"M120-120v-720h720v720H120Zm60-500h600v-160H180v160Zm220 220h160v-160H400v160Zm0 220h160v-160H400v160ZM180-400h160v-160H180v160Zm440 0h160v-160H620v160ZM180-180h160v-160H180v160Zm440 0h160v-160H620v160Z\"/>\n",
              "  </svg>\n",
              "    </button>\n",
              "\n",
              "  <style>\n",
              "    .colab-df-container {\n",
              "      display:flex;\n",
              "      gap: 12px;\n",
              "    }\n",
              "\n",
              "    .colab-df-convert {\n",
              "      background-color: #E8F0FE;\n",
              "      border: none;\n",
              "      border-radius: 50%;\n",
              "      cursor: pointer;\n",
              "      display: none;\n",
              "      fill: #1967D2;\n",
              "      height: 32px;\n",
              "      padding: 0 0 0 0;\n",
              "      width: 32px;\n",
              "    }\n",
              "\n",
              "    .colab-df-convert:hover {\n",
              "      background-color: #E2EBFA;\n",
              "      box-shadow: 0px 1px 2px rgba(60, 64, 67, 0.3), 0px 1px 3px 1px rgba(60, 64, 67, 0.15);\n",
              "      fill: #174EA6;\n",
              "    }\n",
              "\n",
              "    .colab-df-buttons div {\n",
              "      margin-bottom: 4px;\n",
              "    }\n",
              "\n",
              "    [theme=dark] .colab-df-convert {\n",
              "      background-color: #3B4455;\n",
              "      fill: #D2E3FC;\n",
              "    }\n",
              "\n",
              "    [theme=dark] .colab-df-convert:hover {\n",
              "      background-color: #434B5C;\n",
              "      box-shadow: 0px 1px 3px 1px rgba(0, 0, 0, 0.15);\n",
              "      filter: drop-shadow(0px 1px 2px rgba(0, 0, 0, 0.3));\n",
              "      fill: #FFFFFF;\n",
              "    }\n",
              "  </style>\n",
              "\n",
              "    <script>\n",
              "      const buttonEl =\n",
              "        document.querySelector('#df-15a005e7-1803-48a9-aab1-1332fc8b142b button.colab-df-convert');\n",
              "      buttonEl.style.display =\n",
              "        google.colab.kernel.accessAllowed ? 'block' : 'none';\n",
              "\n",
              "      async function convertToInteractive(key) {\n",
              "        const element = document.querySelector('#df-15a005e7-1803-48a9-aab1-1332fc8b142b');\n",
              "        const dataTable =\n",
              "          await google.colab.kernel.invokeFunction('convertToInteractive',\n",
              "                                                    [key], {});\n",
              "        if (!dataTable) return;\n",
              "\n",
              "        const docLinkHtml = 'Like what you see? Visit the ' +\n",
              "          '<a target=\"_blank\" href=https://colab.research.google.com/notebooks/data_table.ipynb>data table notebook</a>'\n",
              "          + ' to learn more about interactive tables.';\n",
              "        element.innerHTML = '';\n",
              "        dataTable['output_type'] = 'display_data';\n",
              "        await google.colab.output.renderOutput(dataTable, element);\n",
              "        const docLink = document.createElement('div');\n",
              "        docLink.innerHTML = docLinkHtml;\n",
              "        element.appendChild(docLink);\n",
              "      }\n",
              "    </script>\n",
              "  </div>\n",
              "\n",
              "\n",
              "<div id=\"df-e897af01-5c99-4a86-bd75-e21f27a5bce1\">\n",
              "  <button class=\"colab-df-quickchart\" onclick=\"quickchart('df-e897af01-5c99-4a86-bd75-e21f27a5bce1')\"\n",
              "            title=\"Suggest charts\"\n",
              "            style=\"display:none;\">\n",
              "\n",
              "<svg xmlns=\"http://www.w3.org/2000/svg\" height=\"24px\"viewBox=\"0 0 24 24\"\n",
              "     width=\"24px\">\n",
              "    <g>\n",
              "        <path d=\"M19 3H5c-1.1 0-2 .9-2 2v14c0 1.1.9 2 2 2h14c1.1 0 2-.9 2-2V5c0-1.1-.9-2-2-2zM9 17H7v-7h2v7zm4 0h-2V7h2v10zm4 0h-2v-4h2v4z\"/>\n",
              "    </g>\n",
              "</svg>\n",
              "  </button>\n",
              "\n",
              "<style>\n",
              "  .colab-df-quickchart {\n",
              "      --bg-color: #E8F0FE;\n",
              "      --fill-color: #1967D2;\n",
              "      --hover-bg-color: #E2EBFA;\n",
              "      --hover-fill-color: #174EA6;\n",
              "      --disabled-fill-color: #AAA;\n",
              "      --disabled-bg-color: #DDD;\n",
              "  }\n",
              "\n",
              "  [theme=dark] .colab-df-quickchart {\n",
              "      --bg-color: #3B4455;\n",
              "      --fill-color: #D2E3FC;\n",
              "      --hover-bg-color: #434B5C;\n",
              "      --hover-fill-color: #FFFFFF;\n",
              "      --disabled-bg-color: #3B4455;\n",
              "      --disabled-fill-color: #666;\n",
              "  }\n",
              "\n",
              "  .colab-df-quickchart {\n",
              "    background-color: var(--bg-color);\n",
              "    border: none;\n",
              "    border-radius: 50%;\n",
              "    cursor: pointer;\n",
              "    display: none;\n",
              "    fill: var(--fill-color);\n",
              "    height: 32px;\n",
              "    padding: 0;\n",
              "    width: 32px;\n",
              "  }\n",
              "\n",
              "  .colab-df-quickchart:hover {\n",
              "    background-color: var(--hover-bg-color);\n",
              "    box-shadow: 0 1px 2px rgba(60, 64, 67, 0.3), 0 1px 3px 1px rgba(60, 64, 67, 0.15);\n",
              "    fill: var(--button-hover-fill-color);\n",
              "  }\n",
              "\n",
              "  .colab-df-quickchart-complete:disabled,\n",
              "  .colab-df-quickchart-complete:disabled:hover {\n",
              "    background-color: var(--disabled-bg-color);\n",
              "    fill: var(--disabled-fill-color);\n",
              "    box-shadow: none;\n",
              "  }\n",
              "\n",
              "  .colab-df-spinner {\n",
              "    border: 2px solid var(--fill-color);\n",
              "    border-color: transparent;\n",
              "    border-bottom-color: var(--fill-color);\n",
              "    animation:\n",
              "      spin 1s steps(1) infinite;\n",
              "  }\n",
              "\n",
              "  @keyframes spin {\n",
              "    0% {\n",
              "      border-color: transparent;\n",
              "      border-bottom-color: var(--fill-color);\n",
              "      border-left-color: var(--fill-color);\n",
              "    }\n",
              "    20% {\n",
              "      border-color: transparent;\n",
              "      border-left-color: var(--fill-color);\n",
              "      border-top-color: var(--fill-color);\n",
              "    }\n",
              "    30% {\n",
              "      border-color: transparent;\n",
              "      border-left-color: var(--fill-color);\n",
              "      border-top-color: var(--fill-color);\n",
              "      border-right-color: var(--fill-color);\n",
              "    }\n",
              "    40% {\n",
              "      border-color: transparent;\n",
              "      border-right-color: var(--fill-color);\n",
              "      border-top-color: var(--fill-color);\n",
              "    }\n",
              "    60% {\n",
              "      border-color: transparent;\n",
              "      border-right-color: var(--fill-color);\n",
              "    }\n",
              "    80% {\n",
              "      border-color: transparent;\n",
              "      border-right-color: var(--fill-color);\n",
              "      border-bottom-color: var(--fill-color);\n",
              "    }\n",
              "    90% {\n",
              "      border-color: transparent;\n",
              "      border-bottom-color: var(--fill-color);\n",
              "    }\n",
              "  }\n",
              "</style>\n",
              "\n",
              "  <script>\n",
              "    async function quickchart(key) {\n",
              "      const quickchartButtonEl =\n",
              "        document.querySelector('#' + key + ' button');\n",
              "      quickchartButtonEl.disabled = true;  // To prevent multiple clicks.\n",
              "      quickchartButtonEl.classList.add('colab-df-spinner');\n",
              "      try {\n",
              "        const charts = await google.colab.kernel.invokeFunction(\n",
              "            'suggestCharts', [key], {});\n",
              "      } catch (error) {\n",
              "        console.error('Error during call to suggestCharts:', error);\n",
              "      }\n",
              "      quickchartButtonEl.classList.remove('colab-df-spinner');\n",
              "      quickchartButtonEl.classList.add('colab-df-quickchart-complete');\n",
              "    }\n",
              "    (() => {\n",
              "      let quickchartButtonEl =\n",
              "        document.querySelector('#df-e897af01-5c99-4a86-bd75-e21f27a5bce1 button');\n",
              "      quickchartButtonEl.style.display =\n",
              "        google.colab.kernel.accessAllowed ? 'block' : 'none';\n",
              "    })();\n",
              "  </script>\n",
              "</div>\n",
              "    </div>\n",
              "  </div>\n"
            ]
          },
          "metadata": {},
          "execution_count": 2
        }
      ]
    },
    {
      "cell_type": "markdown",
      "source": [
        "## Normalizando dados"
      ],
      "metadata": {
        "id": "7QF4y7YkOZsV"
      }
    },
    {
      "cell_type": "code",
      "source": [
        "#Operações já realizadas e explicadas na G1\n",
        "from sklearn.preprocessing import MinMaxScaler\n",
        "\n",
        "scaler = MinMaxScaler()\n",
        "scaled_df = scaler.fit_transform(processed_df)\n",
        "scaled_df = pd.DataFrame(scaled_df, columns=processed_df.columns)"
      ],
      "metadata": {
        "id": "55zUxuAywbK8"
      },
      "execution_count": 3,
      "outputs": []
    },
    {
      "cell_type": "markdown",
      "source": [
        "## Coletando amostra"
      ],
      "metadata": {
        "id": "Bbdw0HbOrtUR"
      }
    },
    {
      "cell_type": "code",
      "source": [
        "from numpy.random import seed\n",
        "from scipy.stats import kstest\n",
        "\n",
        "print(\"Número de linhas no dataset: \", scaled_df.shape[0])\n",
        "\n",
        "div_value = 100\n",
        "\n",
        "# definindo tamanho da amostra\n",
        "sample_number = scaled_df.shape[0]//div_value\n",
        "\n",
        "# definindo valor de seed para permtir reprodução dos resultados\n",
        "seed(42)\n",
        "# coletando amostras aleatórias do dataset\n",
        "sample_df = scaled_df.sample(n=sample_number)\n",
        "\n",
        "# coletando os primeiros valores do dataset como amostra alternativa\n",
        "sample2_df = scaled_df.head(sample_number).copy()\n",
        "\n",
        "print(\"Número de linhas na amostra: \", sample_df.shape[0])\n",
        "\n",
        "# convertendo dataframes em array para compatibilidade com função ks_2samp\n",
        "dataset_array = scaled_df.to_numpy()\n",
        "sample_array = sample_df.to_numpy()\n",
        "sample2_array = sample2_df.to_numpy()\n",
        "\n",
        "# realizando teste de Kolmogorov-Smirnov para saber se amostra preserva distribuição dos dados original\n",
        "print(\"\\nTeste de Kolmogorov-Smirnov entre dataset e amostra:\")\n",
        "print(kstest(dataset_array.flatten(), sample_array.flatten()))\n",
        "print(\"\\nTeste de Kolmogorov-Smirnov entre dataset e amostra alternativa:\")\n",
        "print(kstest(dataset_array.flatten(), sample2_array.flatten()))\n",
        "print(\"\\nTeste de Kolmogorov-Smirnov entre amostra e amostra alternativa:\")\n",
        "print(kstest(sample_array.flatten(), sample2_array.flatten()))"
      ],
      "metadata": {
        "colab": {
          "base_uri": "https://localhost:8080/"
        },
        "id": "i57oTw5AsHRE",
        "outputId": "7e96abc9-2369-4c7a-eeda-3a1c4687c2df"
      },
      "execution_count": 33,
      "outputs": [
        {
          "output_type": "stream",
          "name": "stdout",
          "text": [
            "Número de linhas no dataset:  308854\n",
            "Número de linhas na amostra:  3088\n",
            "\n",
            "Teste de Kolmogorov-Smirnov entre dataset e amostra:\n",
            "KstestResult(statistic=0.0015427258890750029, pvalue=0.9947712649552244, statistic_location=0.15645401443133664, statistic_sign=1)\n",
            "\n",
            "Teste de Kolmogorov-Smirnov entre dataset e amostra alternativa:\n",
            "KstestResult(statistic=0.006647452581907021, pvalue=0.003038854863635124, statistic_location=0.07158401099530409, statistic_sign=-1)\n",
            "\n",
            "Teste de Kolmogorov-Smirnov entre amostra e amostra alternativa:\n",
            "KstestResult(statistic=0.007772020725388629, pvalue=0.02262383157823616, statistic_location=0.10743328370175237, statistic_sign=-1)\n"
          ]
        }
      ]
    },
    {
      "cell_type": "markdown",
      "source": [
        "O primeiro teste gerou p-value maior que 0.05, o que significa que não rejeitamos a hipótese nula. A hipótese nula afirma que não existe diferença significativa entre as distribuições estatísticas sendo comparadas, ou seja, a amostra provavelmente tem a mesma distribuição que o dataset. Na verdade, o p-value está 0.99, bem próximo de 1. Se fosse 1, poderíamos assumir que são idênticas.\n",
        "O segundo teste teve p-value bem menor que 0.05, então rejeitamos a hipótese nula, mostrando que a amostra alternativa não é uma boa representação do dataset.\n",
        "Consequentemente, o terceiro teste mostra que a amostra e a amostra alternativa não seguem a mesma distribuição de dados.\n",
        "\n"
      ],
      "metadata": {
        "id": "c0pSKs3DS1Yj"
      }
    },
    {
      "cell_type": "markdown",
      "source": [
        "## Visualização com grafos"
      ],
      "metadata": {
        "id": "Oo3Yqq1-jTc3"
      }
    },
    {
      "cell_type": "code",
      "source": [
        "from scipy.spatial import distance\n",
        "\n",
        "def compute_similarity(patient1, patient2):\n",
        "    features1 = patient1.values\n",
        "    features2 = patient2.values\n",
        "    similarity_score = 1 / (1 + distance.euclidean(features1, features2))\n",
        "    return similarity_score\n"
      ],
      "metadata": {
        "id": "kEhHfO0tTXzG"
      },
      "execution_count": 5,
      "outputs": []
    },
    {
      "cell_type": "code",
      "source": [
        "import networkx as nx\n",
        "import gravis as gv\n",
        "\n",
        "G = nx.Graph()\n",
        "G.graph['node_color'] = 'blue'\n",
        "number_of_neighbors = []\n",
        "for patient_id in range(len(sample_df)):\n",
        "    G.add_node(patient_id)\n",
        "    number_of_neighbors.append(0)\n",
        "    if sample_df.iloc[patient_id]['Heart_Disease'] == 1:\n",
        "      if sample_df.iloc[patient_id]['Sex_Female'] == 1:\n",
        "        G.nodes[patient_id]['color'] = 'yellow'\n",
        "      else:\n",
        "        G.nodes[patient_id]['color'] = 'green'\n",
        "    elif sample_df.iloc[patient_id]['Sex_Female'] == 1:\n",
        "        G.nodes[patient_id]['color'] = 'red'\n",
        "\n",
        "for patient1_id in range(len(sample_df)):\n",
        "    for patient2_id in range(patient1_id + 1, len(sample_df)):\n",
        "        similarity_score = compute_similarity(sample_df.iloc[patient1_id], sample_df.iloc[patient2_id])\n",
        "        if similarity_score >= 0.5:\n",
        "            G.add_edge(patient1_id, patient2_id, weight=similarity_score)\n",
        "            number_of_neighbors[patient1_id] += 1\n",
        "            number_of_neighbors[patient2_id] += 1\n",
        "    G.nodes[patient1_id]['neighbors'] = number_of_neighbors[patient1_id]\n",
        "\n",
        "graph_density = nx.density(G)\n",
        "print(\"Densidade do grafo:\", graph_density)\n",
        "\n",
        "gv.d3(G, graph_height=500, node_size_data_source='neighbors', use_node_size_normalization=True, node_size_normalization_min=5.0, node_size_normalization_max=30.0).export_html(drive_path + \"/graph\" + \"_\" + str(100/div_value) + \"%_\" + \"sample.html\", overwrite=False)"
      ],
      "metadata": {
        "id": "h-1aMgSppVy0"
      },
      "execution_count": null,
      "outputs": []
    },
    {
      "cell_type": "markdown",
      "metadata": {
        "id": "vbWIxaeLT-HF"
      },
      "source": [
        "## Há diferenças significativas entre homens e mulheres em relação a doenças cardiovasculares?"
      ]
    },
    {
      "cell_type": "code",
      "execution_count": 7,
      "metadata": {
        "colab": {
          "base_uri": "https://localhost:8080/"
        },
        "id": "mWp-CKxo9Ixc",
        "outputId": "8e2ea360-79b2-4f6c-b42d-2512a43698d5"
      },
      "outputs": [
        {
          "output_type": "stream",
          "name": "stdout",
          "text": [
            "Total de homens: \t 148658\n",
            "Total de mulheres: \t 160196\n"
          ]
        }
      ],
      "source": [
        "#Recolhendo numero de homens e mulheres totais\n",
        "totalH = len(df.query('Sex == \"Male\"'))\n",
        "totalM = len(df.query('Sex == \"Female\"'))\n",
        "print(\"Total de homens: \\t\", totalH)\n",
        "print(\"Total de mulheres: \\t\", totalM)"
      ]
    },
    {
      "cell_type": "code",
      "execution_count": 8,
      "metadata": {
        "colab": {
          "base_uri": "https://localhost:8080/"
        },
        "id": "E7aW8uuh9Ixd",
        "outputId": "9bd4f361-2127-4fa2-fc0f-3a8a36f29679"
      },
      "outputs": [
        {
          "output_type": "stream",
          "name": "stdout",
          "text": [
            "Homens com CVD: \t 15073 => 10.14 %\n",
            "Mulheres com CVD: \t 9898 => 6.18 %\n"
          ]
        }
      ],
      "source": [
        "#Recolher a porcentagem de homens e mulheres que possuem doenças cardiovasculares\n",
        "homemCVD = df.query('Sex == \"Male\" and Heart_Disease == \"Yes\"')\n",
        "mulherCVD = df.query('Sex == \"Female\" and Heart_Disease == \"Yes\"')\n",
        "print(\"Homens com CVD: \\t\",len(homemCVD),\"=>\",format(len(homemCVD)/totalH*100,'.2f'),\"%\")\n",
        "print(\"Mulheres com CVD: \\t\",len(mulherCVD),\"=>\",format(len(mulherCVD)/totalM*100,'.2f'),\"%\")"
      ]
    },
    {
      "cell_type": "markdown",
      "metadata": {
        "id": "jn751oMC9Ixd"
      },
      "source": [
        "#### Utilizando odds ratio:"
      ]
    },
    {
      "cell_type": "code",
      "execution_count": 9,
      "metadata": {
        "colab": {
          "base_uri": "https://localhost:8080/"
        },
        "id": "67kztc6L9Ixd",
        "outputId": "21bf9d37-bb01-45c3-ef12-fc0dfdc5caef"
      },
      "outputs": [
        {
          "output_type": "stream",
          "name": "stdout",
          "text": [
            "Odds Ratio: \t\t 1.64\n",
            "Homens tem 64% chances de ter CVD do que mulheres\n"
          ]
        }
      ],
      "source": [
        "OR = (len(homemCVD)/totalH)/(len(mulherCVD)/totalM)\n",
        "print(\"Odds Ratio: \\t\\t\",format(OR,'.2f'))\n",
        "print(\"Homens tem 64% chances de ter CVD do que mulheres\")"
      ]
    },
    {
      "cell_type": "markdown",
      "metadata": {
        "id": "ltZE7inn9Ixe"
      },
      "source": [
        "#### Usando sobreposição de gráficos em barra:"
      ]
    },
    {
      "cell_type": "code",
      "execution_count": 10,
      "metadata": {
        "id": "BoGFNZva9Ixe"
      },
      "outputs": [],
      "source": [
        "def graficoAgeCVD(tabela):\n",
        "    '''Funcao que retorna um grafico de barras com a quantidade de pessoas em cada categoria de idade a partir de uma tabela'''\n",
        "    keys = sorted(pd.unique(tabela[\"Age_Category\"]))\n",
        "    values = {}\n",
        "    for key in keys:\n",
        "        values[key] = len(tabela.query('Age_Category == @key'))\n",
        "    fig = plt.figure(figsize=(10,5))\n",
        "    a,b = (zip(*values.items()))\n",
        "    return list(a), list(b)"
      ]
    },
    {
      "cell_type": "code",
      "execution_count": 11,
      "metadata": {
        "id": "U2J5xOVM9Ixe",
        "colab": {
          "base_uri": "https://localhost:8080/",
          "height": 504
        },
        "outputId": "45ee6616-82c7-45a4-892a-ac9f647b45dc"
      },
      "outputs": [
        {
          "output_type": "display_data",
          "data": {
            "text/plain": [
              "<Figure size 1000x500 with 0 Axes>"
            ]
          },
          "metadata": {}
        },
        {
          "output_type": "display_data",
          "data": {
            "text/plain": [
              "<Figure size 1000x500 with 1 Axes>"
            ],
            "image/png": "[encoded data removed]"
          },
          "metadata": {}
        }
      ],
      "source": [
        "#CALCULO PARA MULHERES\n",
        "womenAgeGroup, womenCountAge = graficoAgeCVD(mulherCVD)\n",
        "\n",
        "#CALCULO PARA HOMENS\n",
        "menAgeGroup, menCountAge = graficoAgeCVD(homemCVD)\n",
        "\n",
        "#COLUNAS\n",
        "ax=sns.barplot(x=menAgeGroup,y=menCountAge,color = 'blue', alpha = 0.5)\n",
        "ax=sns.barplot(x=womenAgeGroup,y=womenCountAge,color = 'red', alpha = 0.5)\n",
        "\n",
        "#RENOMEANDO DETALHES\n",
        "plt.title(\"Number of men and women with CVD by age category: overlapping bar graphics\")\n",
        "ax.set(xlabel=\"Age Groups\", ylabel=\"Count Age Groups\")\n",
        "bluepat = mpatches.Patch(color='blue',label= 'Men',alpha = 0.5)\n",
        "redpat = mpatches.Patch(color='red',label= 'Women',alpha = 0.5)\n",
        "plt.legend(handles=[bluepat,redpat],loc='upper left')\n",
        "\n",
        "plt.show()\n"
      ]
    },
    {
      "cell_type": "markdown",
      "metadata": {
        "id": "8RUHlAd1UNMm"
      },
      "source": [
        "## Como diferentes comorbidades afetam o risco de contrair doenças cardiovasculares?"
      ]
    },
    {
      "cell_type": "markdown",
      "metadata": {
        "id": "X4VF-QIhLY1z"
      },
      "source": [
        "#### Utilizando um histograma:"
      ]
    },
    {
      "cell_type": "code",
      "execution_count": 12,
      "metadata": {
        "id": "iyQYPXZWLY10"
      },
      "outputs": [],
      "source": [
        "def graficoDiseaseCVD(tabela):\n",
        "    '''Funcao que retorna um grafico de barras com a\n",
        "    quantidade de pessoas em cada categoria de comorbidade a partir de uma tabela'''\n",
        "    keys = [\"Skin_Cancer\",\"Other_Cancer\",\"Depression\",\"Diabetes\",\"Arthritis\"]\n",
        "    values = {}\n",
        "    for key in keys:\n",
        "        values[key] = len(tabela.query(f'{key} == \"Yes\"'))\n",
        "    fig = plt.figure(figsize=(7,5))\n",
        "    a,b = (zip(*values.items()))\n",
        "    return list(a), list(b)"
      ]
    },
    {
      "cell_type": "code",
      "execution_count": 13,
      "metadata": {
        "id": "YwEX6orXLY10",
        "colab": {
          "base_uri": "https://localhost:8080/",
          "height": 487
        },
        "outputId": "32e39460-e7f5-4a8c-8d82-0ae4954b6583"
      },
      "outputs": [
        {
          "output_type": "display_data",
          "data": {
            "text/plain": [
              "<Figure size 700x500 with 1 Axes>"
            ],
            "image/png": "[encoded data removed]"
          },
          "metadata": {}
        }
      ],
      "source": [
        "CVDDisease, countCVDDisease = graficoDiseaseCVD(df.query('Heart_Disease == \"Yes\"'))\n",
        "ax=sns.barplot(x=CVDDisease,y=countCVDDisease,color = 'blue', alpha = 0.5, width=0.9)\n",
        "plt.title(\"Number of people with CVD and other diseases\")\n",
        "ax.set(xlabel=\"Diseases\", ylabel=\"Count people with CVD and other diseases\")\n",
        "\n",
        "plt.show()"
      ]
    },
    {
      "cell_type": "markdown",
      "metadata": {
        "id": "N8D_W5xijWV-"
      },
      "source": [
        "## Quais são os fatores de risco mais relevantes para o desenvolvimento de doenças cardiovasculares?"
      ]
    },
    {
      "cell_type": "markdown",
      "metadata": {
        "id": "TtBUQho7jWV_"
      },
      "source": [
        "##### Com base no gráfico anterior, a comorbidade mais relevante seria artrite. Para agora descobrir o hábito mais relevante, vamos montar um segundo gráfico:"
      ]
    },
    {
      "cell_type": "code",
      "execution_count": 14,
      "metadata": {
        "id": "XNfYR4pvjWWA"
      },
      "outputs": [],
      "source": [
        "def graficoConsumptionCVD(tabela):\n",
        "    '''Funcao que retorna um grafico de barras com a\n",
        "    quantidade de pessoas em cada categoria de consumo a partir de uma tabela'''\n",
        "    averageAC = sum(tabela[\"Alcohol_Consumption\"])/len(tabela[\"Alcohol_Consumption\"])\n",
        "    averageFC = sum(tabela[\"Fruit_Consumption\"])/len(tabela[\"Fruit_Consumption\"])\n",
        "    averageGVC = sum(tabela[\"Green_Vegetables_Consumption\"])/len(tabela[\"Green_Vegetables_Consumption\"])\n",
        "    averageFPC = sum(tabela[\"FriedPotato_Consumption\"])/len(tabela[\"FriedPotato_Consumption\"])\n",
        "    keys = [\"Smoking_History\",\"Alcohol_Consumption\",\"Fruit_Consumption\",\"Green_Vegetables_Consumption\", \"FriedPotato_Consumption\"]\n",
        "    values = {}\n",
        "    for key in keys:\n",
        "        match(key):\n",
        "            case \"Smoking_History\":\n",
        "                values[key] = len(tabela.query(f'{key} == \"Yes\"'))\n",
        "            case \"Alcohol_Consumption\":\n",
        "                values[key] = len(tabela.query(f'{key} >= {averageAC}'))\n",
        "            case \"Fruit_Consumption\":\n",
        "                values[key] = len(tabela.query(f'{key} >= {averageFC}'))\n",
        "            case \"Green_Vegetables_Consumption\":\n",
        "                values[key] = len(tabela.query(f'{key} >= {averageGVC}'))\n",
        "            case \"FriedPotato_Consumption\":\n",
        "                values[key] = len(tabela.query(f'{key} >= {averageFPC}'))\n",
        "    fig = plt.figure(figsize=(15,6))\n",
        "    a,b = (zip(*values.items()))\n",
        "    return list(a), list(b)"
      ]
    },
    {
      "cell_type": "code",
      "execution_count": 15,
      "metadata": {
        "id": "Uluxnn7KjWWC",
        "colab": {
          "base_uri": "https://localhost:8080/",
          "height": 559
        },
        "outputId": "5ea78761-63fb-47c5-91a2-e2d5f6027717"
      },
      "outputs": [
        {
          "output_type": "display_data",
          "data": {
            "text/plain": [
              "<Figure size 1500x600 with 1 Axes>"
            ],
            "image/png": "[encoded data removed]"
          },
          "metadata": {}
        }
      ],
      "source": [
        "CVDConsumption, countCVDConsumption = graficoConsumptionCVD(df.query('Heart_Disease == \"Yes\"'))\n",
        "ax=sns.barplot(x=CVDConsumption,y=countCVDConsumption,color = 'red', alpha = 0.5)\n",
        "plt.title(\"Relation between CVD and consumption above average\")\n",
        "ax.set(xlabel=\"Consumption above average\", ylabel=\"Count people with CVD and some consumption above average\")\n",
        "\n",
        "plt.show()"
      ]
    },
    {
      "cell_type": "markdown",
      "metadata": {
        "id": "CxwaNSjcjWWE"
      },
      "source": [
        "##### Podemos observar no gráfico acima que o hábito mais negativamente relevante é o histórico de fumo."
      ]
    },
    {
      "cell_type": "markdown",
      "metadata": {
        "id": "JaAxyqxHUaLz"
      },
      "source": [
        "## Como a atividade física afeta o risco de doenças cardiovasculares?"
      ]
    },
    {
      "cell_type": "code",
      "execution_count": 16,
      "metadata": {
        "id": "jb4C2aIu9MeR",
        "colab": {
          "base_uri": "https://localhost:8080/"
        },
        "outputId": "efd3e87b-1d2e-4fb3-c58c-163638f2556c"
      },
      "outputs": [
        {
          "output_type": "stream",
          "name": "stdout",
          "text": [
            "CVD total: 24971\n",
            "CVD que malham: 15967 \n",
            "CVD que NÃO malham: 9004 \n",
            "Porcentagem CVD que malham: 63.9%\n",
            "Porcentagem CVD que NÃO malham: 36.1%\n"
          ]
        }
      ],
      "source": [
        "totalCVD = len(df.query('Heart_Disease == \"Yes\"'))\n",
        "exercicioS = len(df.query('Heart_Disease == \"Yes\" and Exercise == \"Yes\"'))\n",
        "exercicioN = len(df.query('Heart_Disease == \"Yes\" and Exercise == \"No\"'))\n",
        "\n",
        "print(f'CVD total: {totalCVD}')\n",
        "print(f'CVD que malham: {exercicioS} ')\n",
        "print(f'CVD que NÃO malham: {exercicioN} ')\n",
        "\n",
        "pMalham =  exercicioS/totalCVD\n",
        "pMalhamN =  exercicioN/totalCVD\n",
        "\n",
        "print(f'Porcentagem CVD que malham: {pMalham * 100 :.1f}%')\n",
        "print(f'Porcentagem CVD que NÃO malham: {pMalhamN*100:.1f}%')"
      ]
    },
    {
      "cell_type": "code",
      "execution_count": 17,
      "metadata": {
        "id": "C1PWLFr0w7wd",
        "colab": {
          "base_uri": "https://localhost:8080/",
          "height": 449
        },
        "outputId": "87bf9772-7846-4de5-f43d-a60a7bbd6fcf"
      },
      "outputs": [
        {
          "output_type": "display_data",
          "data": {
            "text/plain": [
              "<Figure size 640x480 with 1 Axes>"
            ],
            "image/png": "[encoded data removed]"
          },
          "metadata": {}
        }
      ],
      "source": [
        "labelsCVD = [f'Faz exercício\\n({exercicioS})', f'Não faz exercício\\n({exercicioN})']\n",
        "sizesCVD = [pMalham, pMalhamN]\n",
        "\n",
        "fig, ax = plt.subplots()\n",
        "ax.set_title(f'Pessoas que tem CVD\\n({totalCVD})')\n",
        "ax.pie(sizesCVD, labels=labelsCVD, autopct='%1.1f%%', colors = [\"royalblue\", \"orangered\"], startangle=180)\n",
        "plt.show()"
      ]
    },
    {
      "cell_type": "code",
      "execution_count": 18,
      "metadata": {
        "id": "ZoCCsBcu9Pis",
        "colab": {
          "base_uri": "https://localhost:8080/"
        },
        "outputId": "5f59cc54-b0b4-4f6b-a81c-055a8e7bacff"
      },
      "outputs": [
        {
          "output_type": "stream",
          "name": "stdout",
          "text": [
            "Total de pessoas que se exercitam: 239381\n",
            "Exercicio e CVD: 15967 \n",
            "Exercicio sem CVD: 223414\n",
            "Porcentagem que malham e tem CVD: 6.7%\n",
            "Porcentagem que malham e NÃO tem CVD: 93.3%\n"
          ]
        }
      ],
      "source": [
        "totalExercicio = len(df.query('Exercise == \"Yes\"'))\n",
        "CVDsim = len(df.query('Heart_Disease == \"Yes\" and Exercise == \"Yes\"'))\n",
        "CVDnao = len(df.query('Heart_Disease == \"No\" and Exercise == \"Yes\"'))\n",
        "\n",
        "print(f'Total de pessoas que se exercitam: {totalExercicio}')\n",
        "print(f'Exercicio e CVD: {CVDsim} ')\n",
        "print(f'Exercicio sem CVD: {CVDnao}')\n",
        "\n",
        "pCVDsim = CVDsim / totalExercicio *100\n",
        "pCVDnao = CVDnao / totalExercicio *100\n",
        "\n",
        "print(f'Porcentagem que malham e tem CVD: {pCVDsim :.1f}%')\n",
        "print(f'Porcentagem que malham e NÃO tem CVD: {pCVDnao :.1f}%')"
      ]
    },
    {
      "cell_type": "code",
      "execution_count": 19,
      "metadata": {
        "id": "e8YTd9qD9SUF",
        "colab": {
          "base_uri": "https://localhost:8080/",
          "height": 450
        },
        "outputId": "7ddc31a2-ce0d-42e0-e65a-28a8e77ae50c"
      },
      "outputs": [
        {
          "output_type": "display_data",
          "data": {
            "text/plain": [
              "<Figure size 640x480 with 1 Axes>"
            ],
            "image/png": "[encoded data removed]"
          },
          "metadata": {}
        }
      ],
      "source": [
        "labelsExercicio = [f'Tem CVD\\n({CVDsim})', f'Não tem CVD\\n({CVDnao})']\n",
        "sizesExercicio = [pCVDsim, pCVDnao]\n",
        "\n",
        "fig, ax = plt.subplots()\n",
        "ax.set_title(f'Pessoas que fazem exercício\\n({totalExercicio})')\n",
        "ax.pie(sizesExercicio, labels=labelsExercicio, autopct='%1.1f%%', colors = [\"orangered\", \"royalblue\"], startangle=180)\n",
        "plt.show()"
      ]
    },
    {
      "cell_type": "code",
      "execution_count": 20,
      "metadata": {
        "id": "c1y8bUOh9XDr",
        "colab": {
          "base_uri": "https://localhost:8080/"
        },
        "outputId": "dd9e91d0-dc50-4d61-ad2f-720cde7d3ce0"
      },
      "outputs": [
        {
          "output_type": "stream",
          "name": "stdout",
          "text": [
            "Poor General Health que fazem exercício: 39.4\n",
            "Poor General Health que NÃO fazem exercício: 60.6\n",
            "\n",
            "Fair General Health que fazem exercício: 57.8\n",
            "Fair General Health que NÃO fazem exercício: 42.2\n",
            "\n",
            "Good General Health que fazem exercício: 74.0\n",
            "Good General Health que NÃO fazem exercício: 26.0\n",
            "\n",
            "Very Good General Health que fazem exercício: 85.2\n",
            "Very Good General Health que NÃO fazem exercício: 14.8\n",
            "\n",
            "Excellent General Health que fazem exercício: 8873.7\n",
            "Excellent General Health que NÃO fazem exercício: 1126.3\n",
            "\n"
          ]
        }
      ],
      "source": [
        "#Análise General Health\n",
        "GHpoor = len(df.query('General_Health == \"Poor\"'))\n",
        "GHfair = len(df.query('General_Health == \"Fair\"'))\n",
        "GHgood = len(df.query('General_Health == \"Good\"'))\n",
        "GHverygood = len(df.query('General_Health == \"Very Good\"'))\n",
        "GHexcellent = len(df.query('General_Health == \"Excellent\"'))\n",
        "\n",
        "#Estatística de exercícios General_Health == \"Poor\"\n",
        "poorE = len(df.query('General_Health == \"Poor\" and Exercise == \"Yes\"'))\n",
        "poorNE = len(df.query('General_Health == \"Poor\" and Exercise == \"No\"'))\n",
        "\n",
        "ppoorE = poorE / GHpoor * 100\n",
        "ppoorNE = poorNE / GHpoor * 100\n",
        "\n",
        "print(f'Poor General Health que fazem exercício: {ppoorE :.1f}')\n",
        "print(f'Poor General Health que NÃO fazem exercício: {ppoorNE:.1f}\\n')\n",
        "\n",
        "#Estatística de exercícios General_Health == \"Fair\"\n",
        "\n",
        "fairE = len(df.query('General_Health == \"Fair\" and Exercise == \"Yes\"'))\n",
        "fairNE = len(df.query('General_Health == \"Fair\" and Exercise == \"No\"'))\n",
        "\n",
        "pfairE = fairE / GHfair * 100\n",
        "pfairNE = fairNE / GHfair * 100\n",
        "\n",
        "print(f'Fair General Health que fazem exercício: {pfairE :.1f}')\n",
        "print(f'Fair General Health que NÃO fazem exercício: {pfairNE :.1f}\\n')\n",
        "\n",
        "#Estatística de exercícios General_Health == \"Good\"\n",
        "goodE = len(df.query('General_Health == \"Good\" and Exercise == \"Yes\"'))\n",
        "goodNE = len(df.query('General_Health == \"Good\" and Exercise == \"No\"'))\n",
        "\n",
        "pgoodE = goodE / GHgood * 100\n",
        "pgoodNE = goodNE / GHgood * 100\n",
        "\n",
        "print(f'Good General Health que fazem exercício: {pgoodE :.1f}')\n",
        "print(f'Good General Health que NÃO fazem exercício: {pgoodNE :.1f}\\n')\n",
        "\n",
        "#Estatística de exercícios General_Health == \"Very Good\"\n",
        "verygoodE = len(df.query('General_Health == \"Very Good\" and Exercise == \"Yes\"'))\n",
        "verygoodNE = len(df.query('General_Health == \"Very Good\" and Exercise == \"No\"'))\n",
        "\n",
        "pverygoodE = verygoodE / GHverygood * 100\n",
        "pverygoodNE = verygoodNE / GHverygood * 100\n",
        "\n",
        "print(f'Very Good General Health que fazem exercício: {pverygoodE :.1f}')\n",
        "print(f'Very Good General Health que NÃO fazem exercício: {pverygoodNE :.1f}\\n')\n",
        "\n",
        "#Estatística de exercícios General_Health == \"Excellent\"\n",
        "excellentE = len(df.query('General_Health == \"Excellent\" and Exercise == \"Yes\"'))\n",
        "excellentNE = len(df.query('General_Health == \"Excellent\" and Exercise == \"No\"'))\n",
        "\n",
        "pexcellentE = excellentE / GHexcellent * 100\n",
        "pexcellentNE = excellentNE / GHexcellent * 100\n",
        "\n",
        "print(f'Excellent General Health que fazem exercício: {pexcellentE*100 :.1f}')\n",
        "print(f'Excellent General Health que NÃO fazem exercício: {pexcellentNE*100 :.1f}\\n')"
      ]
    },
    {
      "cell_type": "code",
      "execution_count": 21,
      "metadata": {
        "id": "kTiIE12PL5lN"
      },
      "outputs": [],
      "source": [
        "#Análise General Health VS. CVD\n",
        "#Estatística de exercícios General_Health == \"Poor\"\n",
        "poorCVDE = len(df.query('General_Health == \"Poor\" and Exercise == \"Yes\" and Heart_Disease == \"Yes\"'))\n",
        "ppoorCVDE = poorCVDE/GHpoor*100\n",
        "\n",
        "#Estatística de exercícios General_Health == \"Fair\"\n",
        "\n",
        "fairCVDE = len(df.query('General_Health == \"Fair\" and Exercise == \"Yes\"and Heart_Disease == \"Yes\"'))\n",
        "pfairCVDE = fairCVDE/GHfair*100\n",
        "\n",
        "#Estatística de exercícios General_Health == \"Good\"\n",
        "goodCVDE = len(df.query('General_Health == \"Good\" and Exercise == \"Yes\"and Heart_Disease == \"Yes\"'))\n",
        "pgoodCVDE = goodCVDE/GHgood*100\n",
        "\n",
        "\n",
        "#Estatística de exercícios General_Health == \"Very Good\"\n",
        "verygoodCVDE = len(df.query('General_Health == \"Very Good\" and Exercise == \"Yes\"and Heart_Disease == \"Yes\"'))\n",
        "pverygoodCVDE = verygoodCVDE/GHverygood*100\n",
        "\n",
        "\n",
        "#Estatística de exercícios General_Health == \"Excellent\"\n",
        "excellentCVDE = len(df.query('General_Health == \"Excellent\" and Exercise == \"Yes\"and Heart_Disease == \"Yes\"'))\n",
        "pexcellentCVDE = excellentCVDE/GHexcellent*100"
      ]
    },
    {
      "cell_type": "code",
      "execution_count": 22,
      "metadata": {
        "id": "gCc5cNgwMLoV",
        "colab": {
          "base_uri": "https://localhost:8080/",
          "height": 503
        },
        "outputId": "ac91e130-7d73-4582-e089-200ae2a4f0ba"
      },
      "outputs": [
        {
          "output_type": "display_data",
          "data": {
            "text/plain": [
              "<Figure size 1000x500 with 1 Axes>"
            ],
            "image/png": "[encoded data removed]"
          },
          "metadata": {}
        }
      ],
      "source": [
        "dataGHE = {'Poor':ppoorE, 'Fair':pfairE, 'Good':pgoodE, 'Very Good':pverygoodE, 'Excellent':pexcellentE}\n",
        "dataGHECVD = {'Poor':ppoorCVDE, 'Fair':pfairCVDE, 'Good':pgoodCVDE, 'Very Good':pverygoodCVDE, 'Excellent':pexcellentCVDE}\n",
        "\n",
        "GH = list(dataGHE.keys())\n",
        "valuesGH = list(dataGHE.values())\n",
        "\n",
        "GHCVD = list(dataGHECVD.keys())\n",
        "valuesGHCVD = list(dataGHECVD.values())\n",
        "\n",
        "fig = plt.figure(figsize = (10, 5))\n",
        "\n",
        "## AJUSTAR AS LABELS!!\n",
        "bluepat = mpatches.Patch(color='blue',label= 'Pessoas que fazem exercício',alpha = 0.5)\n",
        "redpat = mpatches.Patch(color='red',label= 'Pessoas que tem CVD',alpha = 0.5)\n",
        "plt.legend(handles=[bluepat,redpat],loc='upper left')\n",
        "\n",
        "plt.bar(GH, valuesGH, color ='blue', width = 0.4, alpha = 0.5)\n",
        "plt.bar(GHCVD, valuesGHCVD, color ='red', width = 0.4, alpha = 0.5)\n",
        "plt.xlabel(\"\\nGeneral Health\")\n",
        "plt.ylabel(\"Porcentagem de pessoas que fazem exercício\")\n",
        "plt.title(\"Exercício VS. General Health\")\n",
        "plt.show()"
      ]
    },
    {
      "cell_type": "code",
      "execution_count": 23,
      "metadata": {
        "id": "bV_EUbTrxzDu",
        "colab": {
          "base_uri": "https://localhost:8080/"
        },
        "outputId": "01d7a4e3-1e0f-47f2-fa49-9a60f9b63f60"
      },
      "outputs": [
        {
          "output_type": "stream",
          "name": "stdout",
          "text": [
            "Porcentagem de saudáveis que fazem exercício: 78.7%\n",
            "Porcentagem de saudáveis que NÃo fazem exercício: 21.3%\n"
          ]
        }
      ],
      "source": [
        "#Análise pessoas sem CVD\n",
        "\n",
        "NCVDtotal = len(df.query('Heart_Disease == \"No\"'))\n",
        "NCVDexercicioS = len(df.query('Heart_Disease == \"No\" and Exercise == \"Yes\"'))\n",
        "NCVDexercicioN = len(df.query('Heart_Disease == \"No\" and Exercise == \"No\"'))\n",
        "\n",
        "pNCVDexercicioS = NCVDexercicioS/NCVDtotal*100\n",
        "pNCVDexercicioN = NCVDexercicioN/NCVDtotal*100\n",
        "\n",
        "print(f'Porcentagem de saudáveis que fazem exercício: {pNCVDexercicioS:.1f}%')\n",
        "print(f'Porcentagem de saudáveis que NÃo fazem exercício: {pNCVDexercicioN:.1f}%')"
      ]
    },
    {
      "cell_type": "code",
      "execution_count": 24,
      "metadata": {
        "id": "KZ6xKNY50EEf",
        "colab": {
          "base_uri": "https://localhost:8080/",
          "height": 449
        },
        "outputId": "95ee210e-4faa-48e2-df05-f3394f171821"
      },
      "outputs": [
        {
          "output_type": "display_data",
          "data": {
            "text/plain": [
              "<Figure size 640x480 with 1 Axes>"
            ],
            "image/png": "[encoded data removed]"
          },
          "metadata": {}
        }
      ],
      "source": [
        "labelsNCVD= [f'Faz exercício\\n({NCVDexercicioS})', f'Não faz exercício\\n({NCVDexercicioN})']\n",
        "sizesNCVD = [pNCVDexercicioS, pNCVDexercicioN]\n",
        "\n",
        "fig, ax = plt.subplots()\n",
        "ax.set_title(f'Pessoas que não tem CVD\\n({NCVDtotal})')\n",
        "ax.pie(sizesNCVD, labels=labelsNCVD, autopct='%1.1f%%', colors = [\"royalblue\", \"orangered\"], startangle=180)\n",
        "plt.show()"
      ]
    },
    {
      "cell_type": "code",
      "execution_count": 25,
      "metadata": {
        "id": "G1DrESDC1BUs",
        "colab": {
          "base_uri": "https://localhost:8080/"
        },
        "outputId": "64a0e32c-d15f-4682-8889-1e9e41c7c39c"
      },
      "outputs": [
        {
          "output_type": "stream",
          "name": "stdout",
          "text": [
            "Porcentagem não fazem exercício e tem CVD: 13.0%\n",
            "Porcentagem não fazem exercício e NÃO tem CVD: 87.0%\n"
          ]
        }
      ],
      "source": [
        "#Análise pessoas que não malham\n",
        "\n",
        "NEtotal = len(df.query('Exercise == \"No\"'))\n",
        "NEcvdS = len(df.query('Exercise == \"No\" and Heart_Disease == \"Yes\"'))\n",
        "NEcvdN= len(df.query('Exercise == \"No\" and Heart_Disease == \"No\"'))\n",
        "\n",
        "pNEcvdS = NEcvdS / NEtotal  * 100\n",
        "pNEcvdN = NEcvdN / NEtotal * 100\n",
        "\n",
        "print(f'Porcentagem não fazem exercício e tem CVD: {pNEcvdS:.1f}%')\n",
        "print(f'Porcentagem não fazem exercício e NÃO tem CVD: {pNEcvdN:.1f}%')"
      ]
    },
    {
      "cell_type": "code",
      "execution_count": 26,
      "metadata": {
        "id": "oU9liavF1xI8",
        "colab": {
          "base_uri": "https://localhost:8080/",
          "height": 450
        },
        "outputId": "ad87bb92-1762-4215-8d97-c3fc8fd33739"
      },
      "outputs": [
        {
          "output_type": "display_data",
          "data": {
            "text/plain": [
              "<Figure size 640x480 with 1 Axes>"
            ],
            "image/png": "[encoded data removed]"
          },
          "metadata": {}
        }
      ],
      "source": [
        "labelsNE= [f'Tem CVD\\n({NEcvdS})', f'Não tem CVD\\n({NEcvdN})']\n",
        "sizesNE = [pNEcvdS, pNEcvdN]\n",
        "\n",
        "fig, ax = plt.subplots()\n",
        "ax.set_title(f'Pessoas que não fazem exercício\\n({NEtotal})')\n",
        "ax.pie(sizesNE, labels=labelsNE, autopct='%1.1f%%', colors = [\"orangered\", \"royalblue\"], startangle=180)\n",
        "plt.show()"
      ]
    }
  ],
  "metadata": {
    "colab": {
      "provenance": [],
      "include_colab_link": true
    },
    "kernelspec": {
      "display_name": "Python 3.10.11 ('myenv')",
      "language": "python",
      "name": "python3"
    },
    "language_info": {
      "codemirror_mode": {
        "name": "ipython",
        "version": 3
      },
      "file_extension": ".py",
      "mimetype": "text/x-python",
      "name": "python",
      "nbconvert_exporter": "python",
      "pygments_lexer": "ipython3",
      "version": "3.10.11"
    },
    "vscode": {
      "interpreter": {
        "hash": "d556b6cca6773b92447c47fdb8e9d2646421f5e1480ccb980f488385bf023856"
      }
    }
  },
  "nbformat": 4,
  "nbformat_minor": 0
}