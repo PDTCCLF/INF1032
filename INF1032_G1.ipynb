{
  "cells": [
    {
      "cell_type": "markdown",
      "metadata": {
        "id": "view-in-github",
        "colab_type": "text"
      },
      "source": [
        "<a href=\"https://colab.research.google.com/github/PDTCCLF/INF1032/blob/main/INF1032_G1.ipynb\" target=\"_parent\"><img src=\"https://colab.research.google.com/assets/colab-badge.svg\" alt=\"Open In Colab\"/></a>"
      ]
    },
    {
      "cell_type": "code",
      "execution_count": 2,
      "metadata": {
        "colab": {
          "base_uri": "https://localhost:8080/",
          "height": 245
        },
        "id": "b-NNdEYrlBmh",
        "outputId": "3ed2d744-032e-43ae-94ff-34b96a17ab1b"
      },
      "outputs": [
        {
          "output_type": "error",
          "ename": "FileNotFoundError",
          "evalue": "ignored",
          "traceback": [
            "\u001b[0;31m---------------------------------------------------------------------------\u001b[0m",
            "\u001b[0;31mFileNotFoundError\u001b[0m                         Traceback (most recent call last)",
            "\u001b[0;32m<ipython-input-2-2ca7701969de>\u001b[0m in \u001b[0;36m<cell line: 11>\u001b[0;34m()\u001b[0m\n\u001b[1;32m      9\u001b[0m \u001b[0;34m\u001b[0m\u001b[0m\n\u001b[1;32m     10\u001b[0m \u001b[0mdrive_path\u001b[0m \u001b[0;34m=\u001b[0m \u001b[0;34m'Database/'\u001b[0m\u001b[0;34m\u001b[0m\u001b[0;34m\u001b[0m\u001b[0m\n\u001b[0;32m---> 11\u001b[0;31m \u001b[0mcontents\u001b[0m \u001b[0;34m=\u001b[0m \u001b[0mos\u001b[0m\u001b[0;34m.\u001b[0m\u001b[0mlistdir\u001b[0m\u001b[0;34m(\u001b[0m\u001b[0mdrive_path\u001b[0m\u001b[0;34m)\u001b[0m\u001b[0;34m\u001b[0m\u001b[0;34m\u001b[0m\u001b[0m\n\u001b[0m\u001b[1;32m     12\u001b[0m \u001b[0;34m\u001b[0m\u001b[0m\n\u001b[1;32m     13\u001b[0m \u001b[0;32mfor\u001b[0m \u001b[0mdirname\u001b[0m\u001b[0;34m,\u001b[0m \u001b[0m_\u001b[0m\u001b[0;34m,\u001b[0m \u001b[0mfilenames\u001b[0m \u001b[0;32min\u001b[0m \u001b[0mos\u001b[0m\u001b[0;34m.\u001b[0m\u001b[0mwalk\u001b[0m\u001b[0;34m(\u001b[0m\u001b[0mdrive_path\u001b[0m\u001b[0;34m)\u001b[0m\u001b[0;34m:\u001b[0m\u001b[0;34m\u001b[0m\u001b[0;34m\u001b[0m\u001b[0m\n",
            "\u001b[0;31mFileNotFoundError\u001b[0m: [Errno 2] No such file or directory: 'Database/'"
          ]
        }
      ],
      "source": [
        "import os\n",
        "import numpy as np\n",
        "import pandas as pd\n",
        "import seaborn as sns\n",
        "import matplotlib.pyplot as plt\n",
        "from numpy.linalg import norm\n",
        "import scipy.stats as stats\n",
        "import matplotlib.patches as mpatches\n",
        "\n",
        "drive_path = 'Database/'\n",
        "contents = os.listdir(drive_path)\n",
        "\n",
        "for dirname, _, filenames in os.walk(drive_path):\n",
        "    for filename in filenames:\n",
        "        print(os.path.join(dirname, filename))\n",
        "\n",
        "df=pd.read_csv(drive_path + '/CVD_cleaned.csv')\n",
        "df.head()"
      ]
    },
    {
      "cell_type": "code",
      "execution_count": null,
      "metadata": {
        "id": "w1VcgfWrzJK9"
      },
      "outputs": [],
      "source": [
        "#Alcohol_Consumption\n",
        "\n",
        "print(\"Min:\" + str(df[\"Alcohol_Consumption\"].min()) + \"\\tMax:\" + str(df[\"Alcohol_Consumption\"].max()))"
      ]
    },
    {
      "cell_type": "markdown",
      "metadata": {
        "id": "vbWIxaeLT-HF"
      },
      "source": [
        "## Há diferenças significativas entre homens e mulheres em relação a doenças cardiovasculares?"
      ]
    },
    {
      "cell_type": "code",
      "execution_count": null,
      "metadata": {
        "id": "mWp-CKxo9Ixc"
      },
      "outputs": [],
      "source": [
        "#Recolhendo numero de homens e mulheres totais\n",
        "totalH = len(df.query('Sex == \"Male\"'))\n",
        "totalM = len(df.query('Sex == \"Female\"'))\n",
        "print(\"Total de homens: \\t\", totalH)\n",
        "print(\"Total de mulheres: \\t\", totalM)"
      ]
    },
    {
      "cell_type": "code",
      "execution_count": null,
      "metadata": {
        "id": "E7aW8uuh9Ixd"
      },
      "outputs": [],
      "source": [
        "#Recolher a porcentagem de homens e mulheres que possuem doenças cardiovasculares\n",
        "homemCVD = df.query('Sex == \"Male\" and Heart_Disease == \"Yes\"')\n",
        "mulherCVD = df.query('Sex == \"Female\" and Heart_Disease == \"Yes\"')\n",
        "print(\"Homens com CVD: \\t\",len(homemCVD),\"=>\",format(len(homemCVD)/totalH*100,'.2f'),\"%\")\n",
        "print(\"Mulheres com CVD: \\t\",len(mulherCVD),\"=>\",format(len(mulherCVD)/totalM*100,'.2f'),\"%\")"
      ]
    },
    {
      "cell_type": "markdown",
      "metadata": {
        "id": "jn751oMC9Ixd"
      },
      "source": [
        "#### Utilizando odds ratio:"
      ]
    },
    {
      "cell_type": "code",
      "execution_count": null,
      "metadata": {
        "id": "67kztc6L9Ixd"
      },
      "outputs": [],
      "source": [
        "OR = (len(homemCVD)/totalH)/(len(mulherCVD)/totalM)\n",
        "print(\"Odds Ratio: \\t\\t\",format(OR,'.2f'))\n",
        "print(\"Homens tem 64% chances de ter CVD do que mulheres\")"
      ]
    },
    {
      "cell_type": "markdown",
      "metadata": {
        "id": "ltZE7inn9Ixe"
      },
      "source": [
        "#### Usando sobreposição de gráficos em barra:"
      ]
    },
    {
      "cell_type": "code",
      "execution_count": null,
      "metadata": {
        "id": "BoGFNZva9Ixe"
      },
      "outputs": [],
      "source": [
        "def graficoAgeCVD(tabela):\n",
        "    '''Funcao que retorna um grafico de barras com a quantidade de pessoas em cada categoria de idade a partir de uma tabela'''\n",
        "    keys = sorted(pd.unique(tabela[\"Age_Category\"]))\n",
        "    values = {}\n",
        "    for key in keys:\n",
        "        values[key] = len(tabela.query('Age_Category == @key'))\n",
        "    fig = plt.figure(figsize=(10,5))\n",
        "    a,b = (zip(*values.items()))\n",
        "    return list(a), list(b)"
      ]
    },
    {
      "cell_type": "code",
      "execution_count": null,
      "metadata": {
        "id": "U2J5xOVM9Ixe"
      },
      "outputs": [],
      "source": [
        "#CALCULO PARA MULHERES\n",
        "womenAgeGroup, womenCountAge = graficoAgeCVD(mulherCVD)\n",
        "\n",
        "#CALCULO PARA HOMENS\n",
        "menAgeGroup, menCountAge = graficoAgeCVD(homemCVD)\n",
        "\n",
        "#COLUNAS\n",
        "ax=sns.barplot(x=menAgeGroup,y=menCountAge,color = 'blue', alpha = 0.5)\n",
        "ax=sns.barplot(x=womenAgeGroup,y=womenCountAge,color = 'red', alpha = 0.5)\n",
        "\n",
        "#RENOMEANDO DETALHES\n",
        "plt.title(\"Number of men and women with CVD by age category\")\n",
        "ax.set(xlabel=\"Age Groups\", ylabel=\"Count Age Groups\")\n",
        "bluepat = mpatches.Patch(color='blue',label= 'Men',alpha = 0.5)\n",
        "redpat = mpatches.Patch(color='red',label= 'Women',alpha = 0.5)\n",
        "plt.legend(handles=[bluepat,redpat],loc='upper left')\n",
        "\n",
        "plt.show()\n"
      ]
    },
    {
      "cell_type": "markdown",
      "metadata": {
        "id": "8RUHlAd1UNMm"
      },
      "source": [
        "## Como diferentes comorbidades afetam o risco de contrair doenças cardiovasculares?"
      ]
    },
    {
      "cell_type": "markdown",
      "metadata": {
        "id": "X4VF-QIhLY1z"
      },
      "source": [
        "#### Utilizando um histograma:"
      ]
    },
    {
      "cell_type": "code",
      "execution_count": null,
      "metadata": {
        "id": "iyQYPXZWLY10"
      },
      "outputs": [],
      "source": [
        "def graficoDiseaseCVD(tabela):\n",
        "    '''Funcao que retorna um grafico de barras com a quantidade de pessoas em cada categoria de idade a partir de uma tabela'''\n",
        "    keys = [\"Skin_Cancer\",\"Other_Cancer\",\"Depression\",\"Diabetes\",\"Arthritis\"]\n",
        "    values = {}\n",
        "    for key in keys:\n",
        "        values[key] = len(tabela.query(f'{key} == \"Yes\"'))\n",
        "    fig = plt.figure(figsize=(7,5))\n",
        "    a,b = (zip(*values.items()))\n",
        "    return list(a), list(b)"
      ]
    },
    {
      "cell_type": "code",
      "execution_count": null,
      "metadata": {
        "id": "YwEX6orXLY10"
      },
      "outputs": [],
      "source": [
        "CVDDisease, countCVDDisease = graficoDiseaseCVD(df.query('Heart_Disease == \"Yes\"'))\n",
        "ax=sns.barplot(x=CVDDisease,y=countCVDDisease,color = 'blue', alpha = 0.5, width=0.9)\n",
        "plt.title(\"Number of people with CVD and other diseases\")\n",
        "ax.set(xlabel=\"Diseases\", ylabel=\"Count people with CVD and other diseases\")\n",
        "\n",
        "plt.show()"
      ]
    },
    {
      "cell_type": "markdown",
      "metadata": {
        "id": "JaAxyqxHUaLz"
      },
      "source": [
        "## Como a atividade física afeta o risco de doenças cardiovasculares?"
      ]
    },
    {
      "cell_type": "code",
      "execution_count": null,
      "metadata": {
        "id": "jb4C2aIu9MeR"
      },
      "outputs": [],
      "source": [
        "totalCVD = len(df.query('Heart_Disease == \"Yes\"'))\n",
        "exercicioS = len(df.query('Heart_Disease == \"Yes\" and Exercise == \"Yes\"'))\n",
        "exercicioN = len(df.query('Heart_Disease == \"Yes\" and Exercise == \"No\"'))\n",
        "\n",
        "print(f'CVD total: {totalCVD}')\n",
        "print(f'CVD que malham: {exercicioS} ')\n",
        "print(f'CVD que NÃO malham: {exercicioN} ')\n",
        "\n",
        "pMalham =  exercicioS/totalCVD\n",
        "pMalhamN =  exercicioN/totalCVD\n",
        "\n",
        "print(f'Porcentagem CVD que malham: {pMalham * 100 :.1f}%')\n",
        "print(f'Porcentagem CVD que NÃO malham: {pMalhamN*100:.1f}%')"
      ]
    },
    {
      "cell_type": "code",
      "execution_count": null,
      "metadata": {
        "id": "ZoCCsBcu9Pis"
      },
      "outputs": [],
      "source": [
        "totalExercicio = len(df.query('Exercise == \"Yes\"'))\n",
        "CVDsim = len(df.query('Heart_Disease == \"Yes\" and Exercise == \"Yes\"'))\n",
        "CVDnao = len(df.query('Heart_Disease == \"No\" and Exercise == \"Yes\"'))\n",
        "\n",
        "print(f'Total de pessoas que se exercitam: {totalExercicio}')\n",
        "print(f'Exercicio e CVD: {CVDsim} ')\n",
        "print(f'Exercicio sem CVD: {CVDnao}')\n",
        "\n",
        "pCVDsim = CVDsim / totalExercicio\n",
        "pCVDnao = CVDnao / totalExercicio\n",
        "\n",
        "print(f'Porcentagem que malham e tem CVD: {pCVDsim * 100 :.1f}%')\n",
        "print(f'Porcentagem que malham e NÃO tem CVD: {pCVDnao*100:.1f}%')"
      ]
    },
    {
      "cell_type": "code",
      "execution_count": null,
      "metadata": {
        "id": "e8YTd9qD9SUF"
      },
      "outputs": [],
      "source": [
        "labelsExercicio = [f'CVD\\n({CVDsim})', f'!CVD\\n({CVDnao})']\n",
        "sizesExercicio = [pCVDsim, pCVDnao]\n",
        "\n",
        "fig, ax = plt.subplots()\n",
        "ax.set_title(f'Pessoas que fazem exercício\\n({totalExercicio})')\n",
        "ax.pie(sizesExercicio, labels=labelsExercicio, autopct='%1.1f%%', colors = [\"orangered\", \"royalblue\"], startangle=180)\n",
        "plt.show()"
      ]
    },
    {
      "cell_type": "code",
      "execution_count": null,
      "metadata": {
        "id": "c1y8bUOh9XDr"
      },
      "outputs": [],
      "source": [
        "#Análise General Health\n",
        "GHpoor = len(df.query('General_Health == \"Poor\"'))\n",
        "GHfair = len(df.query('General_Health == \"Fair\"'))\n",
        "GHgood = len(df.query('General_Health == \"Good\"'))\n",
        "GHverygood = len(df.query('General_Health == \"Very Good\"'))\n",
        "GHexcellent = len(df.query('General_Health == \"Excellent\"'))\n",
        "\n",
        "#Estatística de exercícios General_Health == \"Poor\"\n",
        "poorE = len(df.query('General_Health == \"Poor\" and Exercise == \"Yes\"'))\n",
        "poorNE = len(df.query('General_Health == \"Poor\" and Exercise == \"No\"'))\n",
        "\n",
        "ppoorE = poorE / GHpoor\n",
        "ppoorNE = poorNE / GHpoor\n",
        "\n",
        "print(f'Poor General Health que fazem exercício: {ppoorE*100 :.1f}')\n",
        "print(f'Poor General Health que NÃO fazem exercício: {ppoorNE*100 :.1f}\\n')\n",
        "\n",
        "#Estatística de exercícios General_Health == \"Fair\"\n",
        "\n",
        "fairE = len(df.query('General_Health == \"Fair\" and Exercise == \"Yes\"'))\n",
        "fairNE = len(df.query('General_Health == \"Fair\" and Exercise == \"No\"'))\n",
        "\n",
        "pfairE = fairE / GHfair\n",
        "pfairNE = fairNE / GHfair\n",
        "\n",
        "print(f'Fair General Health que fazem exercício: {pfairE*100 :.1f}')\n",
        "print(f'Fair General Health que NÃO fazem exercício: {pfairNE*100 :.1f}\\n')\n",
        "\n",
        "#Estatística de exercícios General_Health == \"Good\"\n",
        "goodE = len(df.query('General_Health == \"Good\" and Exercise == \"Yes\"'))\n",
        "goodNE = len(df.query('General_Health == \"Good\" and Exercise == \"No\"'))\n",
        "\n",
        "pgoodE = goodE / GHgood\n",
        "pgoodNE = goodNE / GHgood\n",
        "\n",
        "print(f'Good General Health que fazem exercício: {pgoodE*100 :.1f}')\n",
        "print(f'Good General Health que NÃO fazem exercício: {pgoodNE*100 :.1f}\\n')\n",
        "\n",
        "#Estatística de exercícios General_Health == \"Very Good\"\n",
        "verygoodE = len(df.query('General_Health == \"Very Good\" and Exercise == \"Yes\"'))\n",
        "verygoodNE = len(df.query('General_Health == \"Very Good\" and Exercise == \"No\"'))\n",
        "\n",
        "pverygoodE = verygoodE / GHverygood\n",
        "pverygoodNE = verygoodNE / GHverygood\n",
        "\n",
        "print(f'Very Good General Health que fazem exercício: {pverygoodE*100 :.1f}')\n",
        "print(f'Very Good General Health que NÃO fazem exercício: {pverygoodNE*100 :.1f}\\n')\n",
        "\n",
        "#Estatística de exercícios General_Health == \"Excellent\"\n",
        "excellentE = len(df.query('General_Health == \"Excellent\" and Exercise == \"Yes\"'))\n",
        "excellentNE = len(df.query('General_Health == \"Excellent\" and Exercise == \"No\"'))\n",
        "\n",
        "pexcellentE = excellentE / GHexcellent\n",
        "pexcellentNE = excellentNE / GHexcellent\n",
        "\n",
        "print(f'Excellent General Health que fazem exercício: {pexcellentE*100 :.1f}')\n",
        "print(f'Excellent General Health que NÃO fazem exercício: {pexcellentNE*100 :.1f}\\n')"
      ]
    },
    {
      "cell_type": "code",
      "source": [
        "#Análise General Health VS. CVD\n",
        "#Estatística de exercícios General_Health == \"Poor\"\n",
        "poorCVDE = len(df.query('General_Health == \"Poor\" and Exercise == \"Yes\" and Heart_Disease == \"Yes\"'))\n",
        "ppoorCVDE = poorCVDE/GHpoor\n",
        "\n",
        "#Estatística de exercícios General_Health == \"Fair\"\n",
        "\n",
        "fairCVDE = len(df.query('General_Health == \"Fair\" and Exercise == \"Yes\"and Heart_Disease == \"Yes\"'))\n",
        "pfairCVDE = fairCVDE/GHfair\n",
        "\n",
        "#Estatística de exercícios General_Health == \"Good\"\n",
        "goodCVDE = len(df.query('General_Health == \"Good\" and Exercise == \"Yes\"and Heart_Disease == \"Yes\"'))\n",
        "pgoodCVDE = goodCVDE/GHgood\n",
        "\n",
        "\n",
        "#Estatística de exercícios General_Health == \"Very Good\"\n",
        "verygoodCVDE = len(df.query('General_Health == \"Very Good\" and Exercise == \"Yes\"and Heart_Disease == \"Yes\"'))\n",
        "pverygoodCVDE = verygoodCVDE/GHverygood\n",
        "\n",
        "\n",
        "#Estatística de exercícios General_Health == \"Excellent\"\n",
        "excellentCVDE = len(df.query('General_Health == \"Excellent\" and Exercise == \"Yes\"and Heart_Disease == \"Yes\"'))\n",
        "pexcellentCVDE = excellentCVDE/GHexcellent"
      ],
      "metadata": {
        "id": "kTiIE12PL5lN"
      },
      "execution_count": null,
      "outputs": []
    },
    {
      "cell_type": "code",
      "source": [
        "dataGHE = {'Poor':ppoorE*100, 'Fair':pfairE*100, 'Good':pgoodE*100, 'Very Good':pverygoodE*100, 'Excellent':pexcellentE*100}\n",
        "dataGHECVD = {'Poor':ppoorCVDE*100, 'Fair':pfairCVDE*100, 'Good':pgoodCVDE*100, 'Very Good':pverygoodCVDE*100, 'Excellent':pexcellentCVDE*100}\n",
        "\n",
        "GH = list(dataGHE.keys())\n",
        "valuesGH = list(dataGHE.values())\n",
        "\n",
        "GHCVD = list(dataGHECVD.keys())\n",
        "valuesGHCVD = list(dataGHECVD.values())\n",
        "\n",
        "fig = plt.figure(figsize = (10, 5))\n",
        "\n",
        "plt.bar(GH, valuesGH, color ='blue', width = 0.4)\n",
        "plt.bar(GHCVD, valuesGHCVD, color ='red', width = 0.4)\n",
        "plt.xlabel(\"\\nGeneral Health\")\n",
        "plt.ylabel(\"Porcentagem de pessoas que fazem exercício\")\n",
        "plt.title(\"Exercício VS. General Health\")\n",
        "plt.show()"
      ],
      "metadata": {
        "id": "gCc5cNgwMLoV"
      },
      "execution_count": null,
      "outputs": []
    },
    {
      "cell_type": "markdown",
      "metadata": {
        "id": "TFgHpQtVUg4c"
      },
      "source": [
        "## Quais medidas preventivas podem ser adotadas com base nos modelos de predição de risco?"
      ]
    },
    {
      "cell_type": "markdown",
      "metadata": {
        "id": "MJsy5Mc9UpnI"
      },
      "source": [
        "## Quais são os recursos e alertas que podemos fornecer aos usuários com base nas previsões de risco?"
      ]
    }
  ],
  "metadata": {
    "colab": {
      "provenance": [],
      "include_colab_link": true
    },
    "kernelspec": {
      "display_name": "Python 3.10.11 ('myenv')",
      "language": "python",
      "name": "python3"
    },
    "language_info": {
      "codemirror_mode": {
        "name": "ipython",
        "version": 3
      },
      "file_extension": ".py",
      "mimetype": "text/x-python",
      "name": "python",
      "nbconvert_exporter": "python",
      "pygments_lexer": "ipython3",
      "version": "3.10.11"
    },
    "vscode": {
      "interpreter": {
        "hash": "d556b6cca6773b92447c47fdb8e9d2646421f5e1480ccb980f488385bf023856"
      }
    }
  },
  "nbformat": 4,
  "nbformat_minor": 0
}