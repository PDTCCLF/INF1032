{
  "cells": [
    {
      "cell_type": "markdown",
      "metadata": {
        "colab_type": "text",
        "id": "view-in-github"
      },
      "source": [
        "<a href=\"https://colab.research.google.com/github/PDTCCLF/INF1032/blob/main/INF1032_G1.ipynb\" target=\"_parent\"><img src=\"https://colab.research.google.com/assets/colab-badge.svg\" alt=\"Open In Colab\"/></a>"
      ]
    },
    {
      "cell_type": "code",
      "execution_count": 160,
      "metadata": {
        "colab": {
          "base_uri": "https://localhost:8080/",
          "height": 245
        },
        "id": "b-NNdEYrlBmh",
        "outputId": "cf902d16-26ce-4c03-f23a-9dc152279741"
      },
      "outputs": [
        {
          "name": "stdout",
          "output_type": "stream",
          "text": [
            "Database/CVD_cleaned.csv\n"
          ]
        },
        {
          "data": {
            "text/html": [
              "<div>\n",
              "<style scoped>\n",
              "    .dataframe tbody tr th:only-of-type {\n",
              "        vertical-align: middle;\n",
              "    }\n",
              "\n",
              "    .dataframe tbody tr th {\n",
              "        vertical-align: top;\n",
              "    }\n",
              "\n",
              "    .dataframe thead th {\n",
              "        text-align: right;\n",
              "    }\n",
              "</style>\n",
              "<table border=\"1\" class=\"dataframe\">\n",
              "  <thead>\n",
              "    <tr style=\"text-align: right;\">\n",
              "      <th></th>\n",
              "      <th>General_Health</th>\n",
              "      <th>Checkup</th>\n",
              "      <th>Exercise</th>\n",
              "      <th>Heart_Disease</th>\n",
              "      <th>Skin_Cancer</th>\n",
              "      <th>Other_Cancer</th>\n",
              "      <th>Depression</th>\n",
              "      <th>Diabetes</th>\n",
              "      <th>Arthritis</th>\n",
              "      <th>Sex</th>\n",
              "      <th>Age_Category</th>\n",
              "      <th>Height_(cm)</th>\n",
              "      <th>Weight_(kg)</th>\n",
              "      <th>BMI</th>\n",
              "      <th>Smoking_History</th>\n",
              "      <th>Alcohol_Consumption</th>\n",
              "      <th>Fruit_Consumption</th>\n",
              "      <th>Green_Vegetables_Consumption</th>\n",
              "      <th>FriedPotato_Consumption</th>\n",
              "    </tr>\n",
              "  </thead>\n",
              "  <tbody>\n",
              "    <tr>\n",
              "      <th>0</th>\n",
              "      <td>Poor</td>\n",
              "      <td>Within the past 2 years</td>\n",
              "      <td>No</td>\n",
              "      <td>No</td>\n",
              "      <td>No</td>\n",
              "      <td>No</td>\n",
              "      <td>No</td>\n",
              "      <td>No</td>\n",
              "      <td>Yes</td>\n",
              "      <td>Female</td>\n",
              "      <td>70-74</td>\n",
              "      <td>150.0</td>\n",
              "      <td>32.66</td>\n",
              "      <td>14.54</td>\n",
              "      <td>Yes</td>\n",
              "      <td>0.0</td>\n",
              "      <td>30.0</td>\n",
              "      <td>16.0</td>\n",
              "      <td>12.0</td>\n",
              "    </tr>\n",
              "    <tr>\n",
              "      <th>1</th>\n",
              "      <td>Very Good</td>\n",
              "      <td>Within the past year</td>\n",
              "      <td>No</td>\n",
              "      <td>Yes</td>\n",
              "      <td>No</td>\n",
              "      <td>No</td>\n",
              "      <td>No</td>\n",
              "      <td>Yes</td>\n",
              "      <td>No</td>\n",
              "      <td>Female</td>\n",
              "      <td>70-74</td>\n",
              "      <td>165.0</td>\n",
              "      <td>77.11</td>\n",
              "      <td>28.29</td>\n",
              "      <td>No</td>\n",
              "      <td>0.0</td>\n",
              "      <td>30.0</td>\n",
              "      <td>0.0</td>\n",
              "      <td>4.0</td>\n",
              "    </tr>\n",
              "    <tr>\n",
              "      <th>2</th>\n",
              "      <td>Very Good</td>\n",
              "      <td>Within the past year</td>\n",
              "      <td>Yes</td>\n",
              "      <td>No</td>\n",
              "      <td>No</td>\n",
              "      <td>No</td>\n",
              "      <td>No</td>\n",
              "      <td>Yes</td>\n",
              "      <td>No</td>\n",
              "      <td>Female</td>\n",
              "      <td>60-64</td>\n",
              "      <td>163.0</td>\n",
              "      <td>88.45</td>\n",
              "      <td>33.47</td>\n",
              "      <td>No</td>\n",
              "      <td>4.0</td>\n",
              "      <td>12.0</td>\n",
              "      <td>3.0</td>\n",
              "      <td>16.0</td>\n",
              "    </tr>\n",
              "    <tr>\n",
              "      <th>3</th>\n",
              "      <td>Poor</td>\n",
              "      <td>Within the past year</td>\n",
              "      <td>Yes</td>\n",
              "      <td>Yes</td>\n",
              "      <td>No</td>\n",
              "      <td>No</td>\n",
              "      <td>No</td>\n",
              "      <td>Yes</td>\n",
              "      <td>No</td>\n",
              "      <td>Male</td>\n",
              "      <td>75-79</td>\n",
              "      <td>180.0</td>\n",
              "      <td>93.44</td>\n",
              "      <td>28.73</td>\n",
              "      <td>No</td>\n",
              "      <td>0.0</td>\n",
              "      <td>30.0</td>\n",
              "      <td>30.0</td>\n",
              "      <td>8.0</td>\n",
              "    </tr>\n",
              "    <tr>\n",
              "      <th>4</th>\n",
              "      <td>Good</td>\n",
              "      <td>Within the past year</td>\n",
              "      <td>No</td>\n",
              "      <td>No</td>\n",
              "      <td>No</td>\n",
              "      <td>No</td>\n",
              "      <td>No</td>\n",
              "      <td>No</td>\n",
              "      <td>No</td>\n",
              "      <td>Male</td>\n",
              "      <td>80+</td>\n",
              "      <td>191.0</td>\n",
              "      <td>88.45</td>\n",
              "      <td>24.37</td>\n",
              "      <td>Yes</td>\n",
              "      <td>0.0</td>\n",
              "      <td>8.0</td>\n",
              "      <td>4.0</td>\n",
              "      <td>0.0</td>\n",
              "    </tr>\n",
              "  </tbody>\n",
              "</table>\n",
              "</div>"
            ],
            "text/plain": [
              "  General_Health                  Checkup Exercise Heart_Disease Skin_Cancer  \\\n",
              "0           Poor  Within the past 2 years       No            No          No   \n",
              "1      Very Good     Within the past year       No           Yes          No   \n",
              "2      Very Good     Within the past year      Yes            No          No   \n",
              "3           Poor     Within the past year      Yes           Yes          No   \n",
              "4           Good     Within the past year       No            No          No   \n",
              "\n",
              "  Other_Cancer Depression Diabetes Arthritis     Sex Age_Category  \\\n",
              "0           No         No       No       Yes  Female        70-74   \n",
              "1           No         No      Yes        No  Female        70-74   \n",
              "2           No         No      Yes        No  Female        60-64   \n",
              "3           No         No      Yes        No    Male        75-79   \n",
              "4           No         No       No        No    Male          80+   \n",
              "\n",
              "   Height_(cm)  Weight_(kg)    BMI Smoking_History  Alcohol_Consumption  \\\n",
              "0        150.0        32.66  14.54             Yes                  0.0   \n",
              "1        165.0        77.11  28.29              No                  0.0   \n",
              "2        163.0        88.45  33.47              No                  4.0   \n",
              "3        180.0        93.44  28.73              No                  0.0   \n",
              "4        191.0        88.45  24.37             Yes                  0.0   \n",
              "\n",
              "   Fruit_Consumption  Green_Vegetables_Consumption  FriedPotato_Consumption  \n",
              "0               30.0                          16.0                     12.0  \n",
              "1               30.0                           0.0                      4.0  \n",
              "2               12.0                           3.0                     16.0  \n",
              "3               30.0                          30.0                      8.0  \n",
              "4                8.0                           4.0                      0.0  "
            ]
          },
          "execution_count": 160,
          "metadata": {},
          "output_type": "execute_result"
        }
      ],
      "source": [
        "import os\n",
        "import numpy as np\n",
        "import pandas as pd\n",
        "import seaborn as sns\n",
        "import matplotlib.pyplot as plt\n",
        "from numpy.linalg import norm\n",
        "# from google.colab import drive\n",
        "\n",
        "drive_path = 'Database/'\n",
        "contents = os.listdir(drive_path)\n",
        "\n",
        "for dirname, _, filenames in os.walk(drive_path):\n",
        "    for filename in filenames:\n",
        "        print(os.path.join(dirname, filename))\n",
        "\n",
        "df=pd.read_csv(drive_path + '/CVD_cleaned.csv')\n",
        "df.head()\n",
        "# drive.mount('/content/drive')\n",
        "\n",
        "# drive_path = '/content/drive/MyDrive/Colab Notebooks/Data Science'\n",
        "# contents = os.listdir(drive_path)\n",
        "\n",
        "# for dirname, _, filenames in os.walk(drive_path):\n",
        "#     for filename in filenames:\n",
        "#         print(os.path.join(dirname, filename))\n",
        "\n",
        "# df=pd.read_csv(drive_path + '/CVD_cleaned.csv')\n",
        "# df.head()"
      ]
    },
    {
      "cell_type": "code",
      "execution_count": 161,
      "metadata": {
        "colab": {
          "base_uri": "https://localhost:8080/"
        },
        "id": "w1VcgfWrzJK9",
        "outputId": "08d3e6e6-1caf-4ed3-b49d-2436687a3b79"
      },
      "outputs": [
        {
          "name": "stdout",
          "output_type": "stream",
          "text": [
            "Min:0.0\tMax:30.0\n"
          ]
        }
      ],
      "source": [
        "#Alcohol_Consumption\n",
        "\n",
        "print(\"Min:\" + str(df[\"Alcohol_Consumption\"].min()) + \"\\tMax:\" + str(df[\"Alcohol_Consumption\"].max()))"
      ]
    },
    {
      "cell_type": "markdown",
      "metadata": {
        "id": "vbWIxaeLT-HF"
      },
      "source": [
        "## Há diferenças significativas entre homens e mulheres em relação a doenças cardiovasculares?"
      ]
    },
    {
      "cell_type": "code",
      "execution_count": 162,
      "metadata": {},
      "outputs": [
        {
          "name": "stdout",
          "output_type": "stream",
          "text": [
            "Total de homens: \t 148658\n",
            "Total de mulheres: \t 160196\n"
          ]
        }
      ],
      "source": [
        "#Recolhendo numero de homens e mulheres totais\n",
        "totalH = len(df.query('Sex == \"Male\"'))\n",
        "totalM = len(df.query('Sex == \"Female\"'))\n",
        "print(\"Total de homens: \\t\", totalH)\n",
        "print(\"Total de mulheres: \\t\", totalM)"
      ]
    },
    {
      "cell_type": "code",
      "execution_count": 163,
      "metadata": {},
      "outputs": [
        {
          "name": "stdout",
          "output_type": "stream",
          "text": [
            "Homens com CVD: \t 15073 \t 10.139380322619704 %\n",
            "Mulheres com CVD: \t 9898 \t 6.178681115633349 %\n"
          ]
        }
      ],
      "source": [
        "#Recolher a porcentagem de homens e mulheres que possuem doenças cardiovasculares\n",
        "homemCVD = df.query('Sex == \"Male\" and Heart_Disease == \"Yes\"')\n",
        "mulherCVD = df.query('Sex == \"Female\" and Heart_Disease == \"Yes\"')\n",
        "print(\"Homens com CVD: \\t\",len(homemCVD),\"\\t\",len(homemCVD)/totalH*100,\"%\")\n",
        "print(\"Mulheres com CVD: \\t\",len(mulherCVD),\"\\t\",len(mulherCVD)/totalM*100,\"%\")"
      ]
    },
    {
      "cell_type": "code",
      "execution_count": 167,
      "metadata": {},
      "outputs": [
        {
          "name": "stdout",
          "output_type": "stream",
          "text": [
            "A: [['Male' 'Yes']\n",
            " ['Male' 'Yes']\n",
            " ['Male' 'Yes']\n",
            " ...\n",
            " ['Male' 'Yes']\n",
            " ['Male' 'Yes']\n",
            " ['Male' 'Yes']]\n",
            "B: [['Female' 'Yes']\n",
            " ['Female' 'Yes']\n",
            " ['Female' 'Yes']\n",
            " ...\n",
            " ['Female' 'Yes']\n",
            " ['Female' 'Yes']\n",
            " ['Female' 'Yes']]\n"
          ]
        }
      ],
      "source": [
        "A = np.array(homemCVD[[\"Sex\", \"Heart_Disease\"]])\n",
        "B = np.array(mulherCVD[[\"Sex\", \"Heart_Disease\"]])\n",
        "print(\"A:\", A)\n",
        "print(\"B:\", B)\n",
        "# cosine = np.dot(A,B)/(norm(A)*norm(B))\n",
        "# print(\"Cosine Similarity:\", cosine)"
      ]
    },
    {
      "cell_type": "markdown",
      "metadata": {
        "id": "8RUHlAd1UNMm"
      },
      "source": [
        "## Como diferentes comorbidades afetam o risco de contrair doenças cardiovasculares?"
      ]
    },
    {
      "cell_type": "markdown",
      "metadata": {
        "id": "T4G17YxlUXD1"
      },
      "source": [
        "## Quais são os fatores de risco mais relevantes para o desenvolvimento de doenças cardiovasculares?"
      ]
    },
    {
      "cell_type": "markdown",
      "metadata": {
        "id": "JaAxyqxHUaLz"
      },
      "source": [
        "## Como a atividade física afeta o risco de doenças cardiovasculares?"
      ]
    },
    {
      "cell_type": "markdown",
      "metadata": {
        "id": "TFgHpQtVUg4c"
      },
      "source": [
        "## Quais medidas preventivas podem ser adotadas com base nos modelos de predição de risco?"
      ]
    },
    {
      "cell_type": "markdown",
      "metadata": {
        "id": "MJsy5Mc9UpnI"
      },
      "source": [
        "## Quais são os recursos e alertas que podemos fornecer aos usuários com base nas previsões de risco?"
      ]
    }
  ],
  "metadata": {
    "colab": {
      "include_colab_link": true,
      "provenance": [],
      "toc_visible": true
    },
    "kernelspec": {
      "display_name": "Python 3.10.9 ('base')",
      "language": "python",
      "name": "python3"
    },
    "language_info": {
      "codemirror_mode": {
        "name": "ipython",
        "version": 3
      },
      "file_extension": ".py",
      "mimetype": "text/x-python",
      "name": "python",
      "nbconvert_exporter": "python",
      "pygments_lexer": "ipython3",
      "version": "3.10.9"
    },
    "vscode": {
      "interpreter": {
        "hash": "fa80cb635cf16ce7a1110c89dac6316a5da85e90d3d39e7356cab8886cf69d98"
      }
    }
  },
  "nbformat": 4,
  "nbformat_minor": 0
}
