{
  "nbformat": 4,
  "nbformat_minor": 0,
  "metadata": {
    "colab": {
      "provenance": [],
      "toc_visible": true,
      "include_colab_link": true
    },
    "kernelspec": {
      "name": "python3",
      "display_name": "Python 3"
    },
    "language_info": {
      "name": "python"
    }
  },
  "cells": [
    {
      "cell_type": "markdown",
      "metadata": {
        "id": "view-in-github",
        "colab_type": "text"
      },
      "source": [
        "<a href=\"https://colab.research.google.com/github/PDTCCLF/INF1032/blob/main/INF1032_G1.ipynb\" target=\"_parent\"><img src=\"https://colab.research.google.com/assets/colab-badge.svg\" alt=\"Open In Colab\"/></a>"
      ]
    },
    {
      "cell_type": "code",
      "execution_count": 12,
      "metadata": {
        "colab": {
          "base_uri": "https://localhost:8080/",
          "height": 245
        },
        "id": "b-NNdEYrlBmh",
        "outputId": "cf902d16-26ce-4c03-f23a-9dc152279741"
      },
      "outputs": [
        {
          "output_type": "error",
          "ename": "FileNotFoundError",
          "evalue": "ignored",
          "traceback": [
            "\u001b[0;31m---------------------------------------------------------------------------\u001b[0m",
            "\u001b[0;31mFileNotFoundError\u001b[0m                         Traceback (most recent call last)",
            "\u001b[0;32m<ipython-input-12-a5cab6c2058d>\u001b[0m in \u001b[0;36m<cell line: 8>\u001b[0;34m()\u001b[0m\n\u001b[1;32m      6\u001b[0m \u001b[0;34m\u001b[0m\u001b[0m\n\u001b[1;32m      7\u001b[0m \u001b[0mdrive_path\u001b[0m \u001b[0;34m=\u001b[0m \u001b[0;34m'Database/'\u001b[0m\u001b[0;34m\u001b[0m\u001b[0;34m\u001b[0m\u001b[0m\n\u001b[0;32m----> 8\u001b[0;31m \u001b[0mcontents\u001b[0m \u001b[0;34m=\u001b[0m \u001b[0mos\u001b[0m\u001b[0;34m.\u001b[0m\u001b[0mlistdir\u001b[0m\u001b[0;34m(\u001b[0m\u001b[0mdrive_path\u001b[0m\u001b[0;34m)\u001b[0m\u001b[0;34m\u001b[0m\u001b[0;34m\u001b[0m\u001b[0m\n\u001b[0m\u001b[1;32m      9\u001b[0m \u001b[0;34m\u001b[0m\u001b[0m\n\u001b[1;32m     10\u001b[0m \u001b[0;32mfor\u001b[0m \u001b[0mdirname\u001b[0m\u001b[0;34m,\u001b[0m \u001b[0m_\u001b[0m\u001b[0;34m,\u001b[0m \u001b[0mfilenames\u001b[0m \u001b[0;32min\u001b[0m \u001b[0mos\u001b[0m\u001b[0;34m.\u001b[0m\u001b[0mwalk\u001b[0m\u001b[0;34m(\u001b[0m\u001b[0mdrive_path\u001b[0m\u001b[0;34m)\u001b[0m\u001b[0;34m:\u001b[0m\u001b[0;34m\u001b[0m\u001b[0;34m\u001b[0m\u001b[0m\n",
            "\u001b[0;31mFileNotFoundError\u001b[0m: [Errno 2] No such file or directory: 'Database/'"
          ]
        }
      ],
      "source": [
        "import os\n",
        "import numpy as np\n",
        "import pandas as pd\n",
        "import seaborn as sns\n",
        "# from google.colab import drive\n",
        "\n",
        "drive_path = 'Database/'\n",
        "contents = os.listdir(drive_path)\n",
        "\n",
        "for dirname, _, filenames in os.walk(drive_path):\n",
        "    for filename in filenames:\n",
        "        print(os.path.join(dirname, filename))\n",
        "\n",
        "df=pd.read_csv(drive_path + '/CVD_cleaned.csv')\n",
        "df.head()\n",
        "# drive.mount('/content/drive')\n",
        "\n",
        "# drive_path = '/content/drive/MyDrive/Colab Notebooks/Data Science'\n",
        "# contents = os.listdir(drive_path)\n",
        "\n",
        "# for dirname, _, filenames in os.walk(drive_path):\n",
        "#     for filename in filenames:\n",
        "#         print(os.path.join(dirname, filename))\n",
        "\n",
        "# df=pd.read_csv(drive_path + '/CVD_cleaned.csv')\n",
        "# df.head()"
      ]
    },
    {
      "cell_type": "code",
      "source": [
        "#Fruit_Consumption"
      ],
      "metadata": {
        "id": "NaYOBdcyHxd1"
      },
      "execution_count": null,
      "outputs": []
    },
    {
      "cell_type": "code",
      "source": [
        "#Green_Vegetables_Consumption"
      ],
      "metadata": {
        "id": "7EefVdUMH58I"
      },
      "execution_count": null,
      "outputs": []
    },
    {
      "cell_type": "code",
      "source": [
        "#FriedPotato_Consumption"
      ],
      "metadata": {
        "id": "dGnCnDBOIKS0"
      },
      "execution_count": null,
      "outputs": []
    },
    {
      "cell_type": "code",
      "source": [
        "#NETWORKX grafo"
      ],
      "metadata": {
        "id": "tWqT6Pn4JrRk"
      },
      "execution_count": null,
      "outputs": []
    },
    {
      "cell_type": "code",
      "source": [
        "#Alcohol_Consumption\n",
        "\n",
        "print(\"Min:\" + str(df[\"Alcohol_Consumption\"].min()) + \"\\tMax:\" + str(df[\"Alcohol_Consumption\"].max())"
      ],
      "metadata": {
        "id": "w1VcgfWrzJK9",
        "colab": {
          "base_uri": "https://localhost:8080/"
        },
        "outputId": "08d3e6e6-1caf-4ed3-b49d-2436687a3b79"
      },
      "execution_count": 6,
      "outputs": [
        {
          "output_type": "stream",
          "name": "stdout",
          "text": [
            "Min:0.0\tMax:30.0\n"
          ]
        }
      ]
    },
    {
      "cell_type": "markdown",
      "source": [
        "## Há diferenças significativas entre homens e mulheres em relação a doenças cardiovasculares?"
      ],
      "metadata": {
        "id": "vbWIxaeLT-HF"
      }
    },
    {
      "cell_type": "code",
      "source": [
        "#Recolhendo mulheres com doencas cardiacas\n",
        "df_FE = df #(tentativa de nao deixar  o prox dataframe vazio => falha :( )\n",
        "df_FE.query('Heart_Disease == \"Yes\" and Sex == \"Female\"', inplace=True)\n",
        "print(df[[\"Sex\",\"Heart_Disease\"]])"
      ],
      "metadata": {
        "id": "BcjldDxlTGvL"
      },
      "execution_count": null,
      "outputs": []
    },
    {
      "cell_type": "code",
      "source": [
        "#Recolhendo homens com doencas cardiacas (depois da 1 query, esse dataframe ta dando vazio)\n",
        "df.query('Heart_Disease == \"Yes\" and Sex == \"Male\"', inplace=True)\n",
        "print(df[[\"Sex\",\"Heart_Disease\"]])"
      ],
      "metadata": {
        "id": "BoG84dD9Tgtp"
      },
      "execution_count": null,
      "outputs": []
    },
    {
      "cell_type": "markdown",
      "source": [
        "## Como diferentes comorbidades afetam o risco de contrair doenças cardiovasculares?"
      ],
      "metadata": {
        "id": "8RUHlAd1UNMm"
      }
    },
    {
      "cell_type": "markdown",
      "source": [
        "## Quais são os fatores de risco mais relevantes para o desenvolvimento de doenças cardiovasculares?"
      ],
      "metadata": {
        "id": "T4G17YxlUXD1"
      }
    },
    {
      "cell_type": "markdown",
      "source": [
        "## Como a atividade física afeta o risco de doenças cardiovasculares?"
      ],
      "metadata": {
        "id": "JaAxyqxHUaLz"
      }
    },
    {
      "cell_type": "markdown",
      "source": [
        "## Quais medidas preventivas podem ser adotadas com base nos modelos de predição de risco?"
      ],
      "metadata": {
        "id": "TFgHpQtVUg4c"
      }
    },
    {
      "cell_type": "markdown",
      "source": [
        "## Quais são os recursos e alertas que podemos fornecer aos usuários com base nas previsões de risco?"
      ],
      "metadata": {
        "id": "MJsy5Mc9UpnI"
      }
    }
  ]
}